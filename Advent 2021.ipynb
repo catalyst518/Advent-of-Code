{
 "cells": [
  {
   "cell_type": "code",
   "execution_count": 9,
   "metadata": {},
   "outputs": [
    {
     "name": "stdout",
     "output_type": "stream",
     "text": [
      "1581\n",
      "1618\n"
     ]
    }
   ],
   "source": [
    "#day 1\n",
    "def part1():\n",
    "    last=-99\n",
    "    count=0\n",
    "    for i in data:\n",
    "        if i>last and last>0:\n",
    "            count+=1\n",
    "        last=i\n",
    "    print(count)\n",
    "def part2():\n",
    "    count=0\n",
    "    for i in range(len(data)-3):\n",
    "        if data[i]+data[i+1]+data[i+2]<data[i+3]+data[i+1]+data[i+2]:\n",
    "            count+=1\n",
    "    print(count)\n",
    "with open(\"./2021-input/input1.txt\") as input:\n",
    "    data=[int(i) for i in input]\n",
    "part1()\n",
    "part2()"
   ]
  },
  {
   "cell_type": "code",
   "execution_count": 14,
   "metadata": {},
   "outputs": [
    {
     "name": "stdout",
     "output_type": "stream",
     "text": [
      "1728414\n",
      "1765720035\n"
     ]
    }
   ],
   "source": [
    "#day 2\n",
    "def part1():\n",
    "    position=[0,0]\n",
    "    directions={\n",
    "        \"forward\":[0,1],\n",
    "        \"up\":[1,-1],\n",
    "        \"down\":[1,1]\n",
    "    }\n",
    "    for i in data:\n",
    "        order,value=i.split()\n",
    "        position[directions[order][0]]+=directions[order][1]*int(value)\n",
    "    print(position[0]*position[1])\n",
    "def part2():\n",
    "    position=[0,0]\n",
    "    aim=0\n",
    "    directions={\n",
    "        \"up\":-1,\n",
    "        \"down\":1\n",
    "    }\n",
    "    for i in data:\n",
    "        order,value=i.split()\n",
    "        if order==\"forward\":\n",
    "            position[0]+=int(value)\n",
    "            position[1]+=int(value)*aim\n",
    "        else:\n",
    "            aim+=directions[order]*int(value)\n",
    "    print(position[0]*position[1])\n",
    "with open(\"./2021-input/input2.txt\") as input:\n",
    "    data=[i for i in input]\n",
    "part1()\n",
    "part2()"
   ]
  },
  {
   "cell_type": "code",
   "execution_count": null,
   "metadata": {},
   "outputs": [],
   "source": []
  }
 ],
 "metadata": {
  "kernelspec": {
   "display_name": "Python 3",
   "language": "python",
   "name": "python3"
  },
  "language_info": {
   "codemirror_mode": {
    "name": "ipython",
    "version": 3
   },
   "file_extension": ".py",
   "mimetype": "text/x-python",
   "name": "python",
   "nbconvert_exporter": "python",
   "pygments_lexer": "ipython3",
   "version": "3.7.1"
  }
 },
 "nbformat": 4,
 "nbformat_minor": 4
}
