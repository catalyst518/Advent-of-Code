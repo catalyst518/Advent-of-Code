{
 "cells": [
  {
   "cell_type": "code",
   "execution_count": 37,
   "metadata": {},
   "outputs": [
    {
     "name": "stdout",
     "output_type": "stream",
     "text": [
      "1581\n",
      "1618\n"
     ]
    }
   ],
   "source": [
    "#day 1\n",
    "def part1():\n",
    "    last=-99\n",
    "    count=0\n",
    "    for i in data:\n",
    "        if i>last and last>0:\n",
    "            count+=1\n",
    "        last=i\n",
    "    print(count)\n",
    "def part2():\n",
    "    count=0\n",
    "    for i in range(len(data)-3):\n",
    "        if data[i]<data[i+3]:\n",
    "            count+=1\n",
    "    print(count)\n",
    "with open(\"./2021-input/input1.txt\") as input:\n",
    "    data=[int(i) for i in input]\n",
    "part1()\n",
    "part2()"
   ]
  },
  {
   "cell_type": "code",
   "execution_count": 14,
   "metadata": {},
   "outputs": [
    {
     "name": "stdout",
     "output_type": "stream",
     "text": [
      "1728414\n",
      "1765720035\n"
     ]
    }
   ],
   "source": [
    "#day 2\n",
    "def part1():\n",
    "    position=[0,0]\n",
    "    directions={\n",
    "        \"forward\":[0,1],\n",
    "        \"up\":[1,-1],\n",
    "        \"down\":[1,1]\n",
    "    }\n",
    "    for i in data:\n",
    "        order,value=i.split()\n",
    "        position[directions[order][0]]+=directions[order][1]*int(value)\n",
    "    print(position[0]*position[1])\n",
    "def part2():\n",
    "    position=[0,0]\n",
    "    aim=0\n",
    "    directions={\n",
    "        \"up\":-1,\n",
    "        \"down\":1\n",
    "    }\n",
    "    for i in data:\n",
    "        order,value=i.split()\n",
    "        if order==\"forward\":\n",
    "            position[0]+=int(value)\n",
    "            position[1]+=int(value)*aim\n",
    "        else:\n",
    "            aim+=directions[order]*int(value)\n",
    "    print(position[0]*position[1])\n",
    "with open(\"./2021-input/input2.txt\") as input:\n",
    "    data=[i for i in input]\n",
    "part1()\n",
    "part2()"
   ]
  },
  {
   "cell_type": "code",
   "execution_count": 49,
   "metadata": {},
   "outputs": [
    {
     "name": "stdout",
     "output_type": "stream",
     "text": [
      "2583164\n",
      "2784375\n"
     ]
    }
   ],
   "source": [
    "#day 3\n",
    "def part1():\n",
    "    gamma=''\n",
    "    epsilon=''\n",
    "    for i in range(len(data[0].strip())):\n",
    "        if sum([int(x[i]) for x in data])>len(data)/2:\n",
    "            gamma+='1'\n",
    "            epsilon+='0'\n",
    "        else:\n",
    "            gamma+='0'\n",
    "            epsilon+='1'\n",
    "    print(int(gamma,2)*int(epsilon,2))\n",
    "def part2():\n",
    "    def most(array,position):\n",
    "        if sum([int(x[position]) for x in array])>=len(array)/2:\n",
    "            return [x for x in array if x[position]=='1']\n",
    "        else:\n",
    "            return [x for x in array if x[position]=='0']\n",
    "    def least(array,position):\n",
    "        if sum([int(x[position]) for x in array])>=len(array)/2:\n",
    "            return [x for x in array if x[position]=='0']\n",
    "        else:\n",
    "            return [x for x in array if x[position]=='1']\n",
    "    oxygen=data\n",
    "    co2=data\n",
    "    for i in range(len(data[0].strip())):\n",
    "        if len(oxygen)>1:\n",
    "            oxygen=most(oxygen,i)\n",
    "        if len(co2)>1:\n",
    "            co2=least(co2,i)\n",
    "    print(int(oxygen[0],2)*int(co2[0],2))\n",
    "with open(\"./2021-input/input3.txt\") as input:\n",
    "    data=[i for i in input]\n",
    "part1()\n",
    "part2()"
   ]
  },
  {
   "cell_type": "code",
   "execution_count": 55,
   "metadata": {
    "tags": []
   },
   "outputs": [
    {
     "name": "stdout",
     "output_type": "stream",
     "text": [
      "12796\n",
      "18063\n"
     ]
    }
   ],
   "source": [
    "#day 4\n",
    "class Board:\n",
    "    def __init__(self):\n",
    "        self.items=[]\n",
    "        self.bingo=False\n",
    "    def addRow(self,row):\n",
    "        for i in row.split():\n",
    "            self.items.append(int(i.strip()))     \n",
    "    def checkRows(self):\n",
    "        for row in range(0,5):\n",
    "            check_sum=0\n",
    "            for col in range(0,5):\n",
    "                check_sum+=self.items[row*5+col]\n",
    "            if check_sum==-5:\n",
    "                self.bingo=True\n",
    "                return True\n",
    "        return False\n",
    "    def checkCols(self):\n",
    "        for col in range(0,5):\n",
    "            check_sum=0\n",
    "            for row in range(0,5):\n",
    "                check_sum+=self.items[row*5+col]\n",
    "            if check_sum==-5:\n",
    "                self.bingo=True\n",
    "                return True\n",
    "        return False\n",
    "    def checkBingo(self):\n",
    "        return self.checkRows() or self.checkCols()\n",
    "    def sumItems(self):\n",
    "        return sum([x for x in self.items if x>0])\n",
    "    def callNumber(self,x):\n",
    "        self.items=[-1 if item==x else item for item in self.items]\n",
    "def loadBoards(raw):\n",
    "    boards=[]\n",
    "    for i,line in enumerate(raw):\n",
    "        if not i%5:\n",
    "            boards.append(Board())\n",
    "        boards[i//5].addRow(line)\n",
    "    return boards\n",
    "def bingoScores(data):\n",
    "    numbers=[int(x) for x in data[0].split(',')]\n",
    "    boards=loadBoards(data[1:])\n",
    "    scores=[]\n",
    "    for i in numbers:\n",
    "        for board in boards:\n",
    "            if not board.bingo:\n",
    "                board.callNumber(i)\n",
    "                if board.checkBingo():\n",
    "                    scores.append(board.sumItems()*i)\n",
    "    return scores\n",
    "def part1(data):\n",
    "    print(bingoScores(data)[0])\n",
    "def part2(data):\n",
    "    print(bingoScores(data)[-1])\n",
    "with open(\"./2021-input/input4.txt\") as input:\n",
    "    data=[i.strip() for i in input if i.strip()]\n",
    "    part1(data)\n",
    "    part2(data)"
   ]
  },
  {
   "cell_type": "code",
   "execution_count": 121,
   "metadata": {},
   "outputs": [
    {
     "name": "stdout",
     "output_type": "stream",
     "text": [
      "5145\n",
      "16518\n"
     ]
    }
   ],
   "source": [
    "#day 5\n",
    "def processStraight(grid,straight):\n",
    "    for coords in straight:\n",
    "        coords.sort(key=lambda x: (x[0],x[1]))\n",
    "        for x in range(coords[0][0],coords[1][0]+1):\n",
    "            for y in range(coords[0][1],coords[1][1]+1):\n",
    "                grid[x][y]+=1\n",
    "def countOverlaps(grid):\n",
    "    overlaps=0\n",
    "    for row in grid:\n",
    "        for point in row:\n",
    "            if point>=2:\n",
    "                overlaps+=1\n",
    "    return overlaps\n",
    "def part1(data):\n",
    "    straight=[]\n",
    "    for line in data:\n",
    "        coords=[]\n",
    "        for point in line.split('->'):\n",
    "            coords.append([int(x) for x in point.split(',')])\n",
    "        if coords[0][0]==coords[1][0] or coords[0][1]==coords[1][1]:\n",
    "            straight.append(coords)\n",
    "    max_dim=max([max(max(x)) for x in straight])+1\n",
    "    grid=[[0]*max_dim for i in range(max_dim)]\n",
    "    processStraight(grid,straight)\n",
    "    print(countOverlaps(grid))\n",
    "def part2(data):\n",
    "    straight=[]\n",
    "    diagonal=[]\n",
    "    for line in data:\n",
    "        coords=[]\n",
    "        for point in line.split('->'):\n",
    "            coords.append([int(x) for x in point.split(',')])\n",
    "        if coords[0][0]==coords[1][0] or coords[0][1]==coords[1][1]:\n",
    "            straight.append(coords)\n",
    "        else:\n",
    "            diagonal.append(coords)\n",
    "    max_dim=max([max(max(x)) for x in straight])+1\n",
    "    max_dim_diagonal=max([max(max(x)) for x in diagonal])+1\n",
    "    max_dim=max([max_dim,max_dim_diagonal])\n",
    "    grid=[[0]*max_dim for i in range(max_dim)]\n",
    "    processStraight(grid,straight)\n",
    "    for coords in diagonal:\n",
    "        coords.sort(key=lambda x: (x[0],x[1]))\n",
    "        y_factor=1 if coords[1][1]>coords[0][1] else -1\n",
    "        for x in range(0,coords[1][0]-coords[0][0]+1):\n",
    "            grid[coords[0][0]+x][coords[0][1]+y_factor*x]+=1\n",
    "    print(countOverlaps(grid))\n",
    "with open(\"./2021-input/input5.txt\") as input:\n",
    "    data=[i.strip() for i in input if i.strip()]\n",
    "    part1(data)\n",
    "    part2(data)"
   ]
  },
  {
   "cell_type": "code",
   "execution_count": null,
   "metadata": {},
   "outputs": [],
   "source": []
  }
 ],
 "metadata": {
  "kernelspec": {
   "display_name": "Python 3 (ipykernel)",
   "language": "python",
   "name": "python3"
  },
  "language_info": {
   "codemirror_mode": {
    "name": "ipython",
    "version": 3
   },
   "file_extension": ".py",
   "mimetype": "text/x-python",
   "name": "python",
   "nbconvert_exporter": "python",
   "pygments_lexer": "ipython3",
   "version": "3.10.1"
  }
 },
 "nbformat": 4,
 "nbformat_minor": 4
}
