{
 "cells": [
  {
   "cell_type": "code",
   "execution_count": 19,
   "metadata": {},
   "outputs": [
    {
     "name": "stdout",
     "output_type": "stream",
     "text": [
      "55776\n",
      "223162626\n"
     ]
    }
   ],
   "source": [
    "#day 1\n",
    "def loop():\n",
    "    for i in data:\n",
    "        for j in data:\n",
    "            if i+j==2020:\n",
    "                print(i*j)\n",
    "                return\n",
    "def loop3():\n",
    "    for i in data:\n",
    "        for j in data:\n",
    "            for k in data:\n",
    "                if i+j+k==2020:\n",
    "                    print(i*j*k)\n",
    "                    return\n",
    "with open(\"input1.txt\") as input:\n",
    "    data=[int(i) for i in input]\n",
    "loop()#part 1\n",
    "loop3()#part 2"
   ]
  },
  {
   "cell_type": "code",
   "execution_count": 22,
   "metadata": {},
   "outputs": [
    {
     "name": "stdout",
     "output_type": "stream",
     "text": [
      "434\n"
     ]
    }
   ],
   "source": [
    "#day 2, part 1\n",
    "count=0\n",
    "with open(\"input2.txt\") as input:\n",
    "    for line in input:\n",
    "        limit,letter=line.split(':')[0].split()\n",
    "        low,high=map(int,limit.split('-'))\n",
    "        password=line.split(':')[1].strip()\n",
    "        if low<=password.count(letter)<=high:\n",
    "            count+=1\n",
    "print(count)"
   ]
  },
  {
   "cell_type": "code",
   "execution_count": 23,
   "metadata": {},
   "outputs": [
    {
     "name": "stdout",
     "output_type": "stream",
     "text": [
      "509\n"
     ]
    }
   ],
   "source": [
    "#day 2, part 2\n",
    "count=0\n",
    "with open(\"input2.txt\") as input:\n",
    "    for line in input:\n",
    "        limit,letter=line.split(':')[0].split()\n",
    "        low,high=map(int,limit.split('-'))\n",
    "        password=line.split(':')[1].strip()\n",
    "        if password[low-1]==letter and password[high-1]!=letter:\n",
    "            count+=1\n",
    "        elif password[low-1]!=letter and password[high-1]==letter:\n",
    "            count+=1\n",
    "print(count)"
   ]
  },
  {
   "cell_type": "code",
   "execution_count": 89,
   "metadata": {},
   "outputs": [
    {
     "name": "stdout",
     "output_type": "stream",
     "text": [
      "part 1: 223\n",
      "part 2: 3517401300\n"
     ]
    }
   ],
   "source": [
    "#day 3\n",
    "with open (\"input3.txt\") as input:\n",
    "    terrain=[line.strip() for line in input]\n",
    "def slope(right,down):\n",
    "    xlen=len(terrain[0])\n",
    "    ylen=len(terrain)\n",
    "    count=0\n",
    "    x=0\n",
    "    for y in range(down,ylen,down):\n",
    "        if x+right>=xlen:\n",
    "            x=x-xlen+right\n",
    "        else:\n",
    "            x+=right\n",
    "        if terrain[y][x]=='#':\n",
    "            count+=1\n",
    "    return count\n",
    "print(\"part 1:\",slope(3,1))\n",
    "print(\"part 2:\",slope(1,1)*slope(3,1)*slope(5,1)*slope(7,1)*slope(1,2))"
   ]
  },
  {
   "cell_type": "code",
   "execution_count": 55,
   "metadata": {},
   "outputs": [
    {
     "name": "stdout",
     "output_type": "stream",
     "text": [
      "242\n"
     ]
    }
   ],
   "source": [
    "#day 4, part 1\n",
    "def validate(data):\n",
    "    requirements=['byr','iyr','eyr','hgt','hcl','ecl','pid']\n",
    "    for i in requirements:\n",
    "        if i not in data:\n",
    "            return 0\n",
    "    return 1\n",
    "\n",
    "with open (\"input4.txt\") as input:\n",
    "    data=[]\n",
    "    valid=0\n",
    "    for line in input:\n",
    "        if line.strip():\n",
    "            for info in line.strip().split():\n",
    "                data.append(info.split(':')[0])\n",
    "        else:\n",
    "            #end of passport\n",
    "            valid+=validate(data)\n",
    "            data=[]\n",
    "    valid+=validate(data)\n",
    "print(valid)"
   ]
  },
  {
   "cell_type": "code",
   "execution_count": 56,
   "metadata": {},
   "outputs": [
    {
     "name": "stdout",
     "output_type": "stream",
     "text": [
      "186\n"
     ]
    }
   ],
   "source": [
    "#day 4, part 2\n",
    "def validate(data):\n",
    "    if None in data.values():\n",
    "        return 0\n",
    "    if not 1920<=int(data['byr'])<=2002 or len(data['byr'])!=4:\n",
    "        return 0\n",
    "    if not 2010<=int(data['iyr'])<=2020 or len(data['byr'])!=4:\n",
    "        return 0\n",
    "    if not 2020<=int(data['eyr'])<=2030 or len(data['byr'])!=4:\n",
    "        return 0\n",
    "    if data['ecl'] not in 'amb blu brn gry grn hzl oth'.split():\n",
    "        return 0\n",
    "    if len(data['pid'])!=9:\n",
    "        return 0\n",
    "    for i in data['pid']:\n",
    "        try:\n",
    "            int(i)\n",
    "        except:\n",
    "            return 0\n",
    "    if data['hcl'][0]!='#':\n",
    "        return 0\n",
    "    for i in data['hcl'][1:]:\n",
    "        if str(i) not in '0123456789abcdef':\n",
    "            return 0\n",
    "    if data['hgt'][-2:]=='cm':\n",
    "        if not 150<=int(data['hgt'][:-2])<=193:\n",
    "            return 0\n",
    "    elif data['hgt'][-2:]=='in':\n",
    "        if not 56<=int(data['hgt'][:-2])<=76:\n",
    "            return 0\n",
    "    else:\n",
    "        return 0\n",
    "    return 1\n",
    "\n",
    "with open (\"input4.txt\") as input:\n",
    "    requirements={'byr','iyr','eyr','hgt','hcl','ecl','pid'}\n",
    "    data=dict.fromkeys(requirements,None)\n",
    "    valid=0\n",
    "    for line in input:\n",
    "        if line.strip():\n",
    "            for info in line.strip().split():\n",
    "                data[info.split(':')[0]]=info.split(':')[1]\n",
    "        else:\n",
    "            #end of passport\n",
    "            valid+=validate(data)\n",
    "            data=dict.fromkeys(requirements,None)\n",
    "    valid+=validate(data)\n",
    "print(valid)"
   ]
  },
  {
   "cell_type": "code",
   "execution_count": 1,
   "metadata": {},
   "outputs": [
    {
     "name": "stdout",
     "output_type": "stream",
     "text": [
      "part 1: 855\n",
      "part 2: 552\n"
     ]
    }
   ],
   "source": [
    "#day 5\n",
    "seats=[]\n",
    "with open (\"input5.txt\") as input:\n",
    "    for line in input:\n",
    "        row=[*range(128)]\n",
    "        col=[*range(8)]\n",
    "        for i in line[:7]:\n",
    "            if i=='F':\n",
    "                row=row[:len(row)//2]\n",
    "            else:\n",
    "                row=row[len(row)//2:]\n",
    "        for i in line.strip()[7:]:\n",
    "            if i=='L':\n",
    "                col=col[:len(col)//2]\n",
    "            else:\n",
    "                col=col[len(col)//2:]\n",
    "        seats.append(row[0]*8+col[0])\n",
    "print(\"part 1:\",max(seats))\n",
    "for i in range(min(seats)+1,max(seats)):\n",
    "    if i not in seats and i+1 in seats and i-1 in seats:\n",
    "        print(\"part 2:\",i)\n",
    "        break"
   ]
  },
  {
   "cell_type": "code",
   "execution_count": 9,
   "metadata": {},
   "outputs": [
    {
     "name": "stdout",
     "output_type": "stream",
     "text": [
      "part 1: 855\n",
      "part 2: 552\n"
     ]
    }
   ],
   "source": [
    "#day 5\n",
    "seats=[]\n",
    "with open (\"input5.txt\") as input:\n",
    "    for line in input:\n",
    "        row=[*range(128)]\n",
    "        col=[*range(8)]\n",
    "        for i in line[:7]:\n",
    "            if i=='F':\n",
    "                row=row[:len(row)//2]\n",
    "            else:\n",
    "                row=row[len(row)//2:]\n",
    "        for i in line.strip()[7:]:\n",
    "            if i=='L':\n",
    "                col=col[:len(col)//2]\n",
    "            else:\n",
    "                col=col[len(col)//2:]\n",
    "        seats.append(row[0]*8+col[0])\n",
    "print(\"part 1:\",max(seats))\n",
    "print(\"part 2:\",[i for i in range(min(seats)+1,max(seats)) if i not in seats and i+1 in seats and i-1 in seats][0])"
   ]
  },
  {
   "cell_type": "code",
   "execution_count": 9,
   "metadata": {},
   "outputs": [
    {
     "name": "stdout",
     "output_type": "stream",
     "text": [
      "6878\n"
     ]
    }
   ],
   "source": [
    "# day 6, part 1\n",
    "with open (\"input6.txt\") as input:\n",
    "    yes=0\n",
    "    group=set()\n",
    "    for line in input:\n",
    "        if line.strip():\n",
    "            for i in line.strip():\n",
    "                group.add(i)\n",
    "        else:\n",
    "            #end of group\n",
    "            yes+=len(group)\n",
    "            group.clear()\n",
    "    yes+=len(group)\n",
    "print(yes)"
   ]
  },
  {
   "cell_type": "code",
   "execution_count": 24,
   "metadata": {},
   "outputs": [
    {
     "name": "stdout",
     "output_type": "stream",
     "text": [
      "3464\n"
     ]
    }
   ],
   "source": [
    "# day 6, part 2\n",
    "with open (\"input6.txt\") as input:\n",
    "    yes=0\n",
    "    size=0\n",
    "    group=[]\n",
    "    for line in input:\n",
    "        if line.strip():\n",
    "            for i in line.strip():\n",
    "                group.append(i)\n",
    "            size+=1\n",
    "        else:\n",
    "            #end of group\n",
    "            for i in set(group):\n",
    "                if group.count(i)==size:\n",
    "                    yes+=1\n",
    "            group=[]\n",
    "            size=0\n",
    "    for i in set(group):\n",
    "        if group.count(i)==size:\n",
    "            yes+=1\n",
    "print(yes)"
   ]
  },
  {
   "cell_type": "code",
   "execution_count": 222,
   "metadata": {},
   "outputs": [
    {
     "name": "stdout",
     "output_type": "stream",
     "text": [
      "part 1: 238\n",
      "part 2: 82930\n"
     ]
    }
   ],
   "source": [
    "#day 7\n",
    "def inspect(bag):\n",
    "    if bag==\"shiny gold bag\":\n",
    "        return 0\n",
    "    elif \"other bag\" in [i[1] for i in data[bag]]:\n",
    "        return 0\n",
    "    elif \"shiny gold bag\" in [i[1] for i in data[bag]]:\n",
    "        return 1\n",
    "    else:\n",
    "        for j in [i[1] for i in data[bag]]:\n",
    "            if inspect(j):\n",
    "                return 1\n",
    "        return 0\n",
    "def contents(bag):\n",
    "    if \"other bag\" in [i[1] for i in data[bag]]:\n",
    "        return 1\n",
    "    else:\n",
    "        c=0\n",
    "        for i in data[bag]:\n",
    "            c+=int(i[0])*contents(i[1])\n",
    "        return c+1\n",
    "with open (\"input7.txt\") as input:\n",
    "    data={}\n",
    "    valid=0\n",
    "    for line in input:\n",
    "        bag,inside=[i[:-1] for i in line.split(\" contain \")]\n",
    "        data[bag]=[i.strip().strip('.').strip('s').split(\" \",1) for i in inside.split(\",\")]\n",
    "colors=0\n",
    "for i in data:\n",
    "    colors+=inspect(i)\n",
    "print(\"part 1:\",colors)\n",
    "total=0\n",
    "for i in data['shiny gold bag']:\n",
    "    total+=int(i[0])*contents(i[1])\n",
    "print(\"part 2:\",total)"
   ]
  },
  {
   "cell_type": "code",
   "execution_count": 108,
   "metadata": {},
   "outputs": [
    {
     "name": "stdout",
     "output_type": "stream",
     "text": [
      "part 1: 1614\n",
      "part 2: 1260\n"
     ]
    }
   ],
   "source": [
    "#day 8\n",
    "with open (\"input8.txt\") as input:\n",
    "    data=[line.strip().split()+[0] for line in input]\n",
    "def loop(in_list):\n",
    "    op=[x[:] for x in in_list]\n",
    "    infinite=False\n",
    "    i=0\n",
    "    acc=0\n",
    "    while i<len(op):\n",
    "        if op[i][2]==1:\n",
    "            infinite=True\n",
    "            break\n",
    "        if op[i][0]=='nop':\n",
    "            op[i][2]=1\n",
    "            i+=1\n",
    "            continue\n",
    "        elif op[i][0]=='acc':\n",
    "            op[i][2]=1\n",
    "            if int(op[i][1])<=0:\n",
    "                acc+=int(op[i][1])\n",
    "            else:\n",
    "                acc+=int(op[i][1][1:])\n",
    "            i+=1\n",
    "            continue\n",
    "        elif op[i][0]=='jmp':\n",
    "            op[i][2]=1\n",
    "            if int(op[i][1])<=0:\n",
    "                i+=int(op[i][1])\n",
    "            else:\n",
    "                i+=int(op[i][1][1:])\n",
    "            continue\n",
    "    return acc,infinite\n",
    "print(\"part 1:\",loop(data)[0])\n",
    "for i,x in  enumerate(data):\n",
    "    edit=[j[:] for j in data]\n",
    "    if x[0]=='nop':\n",
    "        edit[i][0]='jmp'\n",
    "    elif x[0]=='jmp':\n",
    "        edit[i][0]='nop'\n",
    "    else:\n",
    "        continue\n",
    "    acc,infinite=loop(edit)\n",
    "    if not infinite:\n",
    "        print(\"part 2:\",acc)\n",
    "        break"
   ]
  },
  {
   "cell_type": "code",
   "execution_count": 67,
   "metadata": {},
   "outputs": [
    {
     "name": "stdout",
     "output_type": "stream",
     "text": [
      "part 1: 22406676\n",
      "part 2: 2942387\n"
     ]
    }
   ],
   "source": [
    "#day 9\n",
    "with open (\"input9.txt\") as input:\n",
    "    data=[int(line) for line in input]\n",
    "preamble=25\n",
    "for i,x in enumerate(data[preamble:]):\n",
    "    found=False\n",
    "    for j,y in enumerate(data[i:i+preamble],i):\n",
    "        if not found:\n",
    "            for k in data[j+1:i+preamble]:\n",
    "                if y+k==x:\n",
    "                    found=True\n",
    "                    break\n",
    "    if not found:\n",
    "        print(\"part 1:\",x)\n",
    "        break\n",
    "def part2(data):\n",
    "    for i,y in enumerate(data):\n",
    "        contig=[y]\n",
    "        for j in data[i+1:]:\n",
    "            contig.append(j)\n",
    "            if sum(contig)==x:\n",
    "                print(\"part 2:\",min(contig)+max(contig))\n",
    "                return\n",
    "            elif sum(contig)>x:\n",
    "                break\n",
    "part2(data)"
   ]
  },
  {
   "cell_type": "code",
   "execution_count": 95,
   "metadata": {},
   "outputs": [
    {
     "name": "stdout",
     "output_type": "stream",
     "text": [
      "part 1: 2240\n",
      "part 2: 99214346656768\n"
     ]
    }
   ],
   "source": [
    "#day 10\n",
    "with open (\"input10.txt\") as input:\n",
    "    data=[int(line) for line in input]\n",
    "data.append(0)\n",
    "data.sort()\n",
    "deltas=[]\n",
    "for i,j in enumerate(data[1:],1):\n",
    "    deltas.append(j-data[i-1])\n",
    "deltas.append(3)\n",
    "print(\"part 1:\",deltas.count(1)*deltas.count(3))\n",
    "multiplier={1:1,2:2,3:4,4:7,5:12}#see permutation note below\n",
    "ones=0\n",
    "total=1\n",
    "for i in deltas:\n",
    "    if i==3:\n",
    "        if ones:\n",
    "            total*=multiplier[ones]\n",
    "            ones=0\n",
    "    else:\n",
    "        ones+=1\n",
    "print(\"part 2:\", total)"
   ]
  },
  {
   "cell_type": "markdown",
   "metadata": {},
   "source": [
    "Permutation notes for day 10, part 2:  \n",
    "Search for substrings of 1's in deltas to get number of permutations for that substring\n",
    "\n",
    "[1]=1c1=1\n",
    "\n",
    "[1,1]=1c1+1c0=2\n",
    "\n",
    "[1,1,1]=2c0+2c1+2c2=4\n",
    "\n",
    "[1,1,1,1]=3c1+3c2+3c3=7\n",
    "\n",
    "[1,1,1,1,1]=2c1+4c2+3c2+5c5=12"
   ]
  },
  {
   "cell_type": "code",
   "execution_count": null,
   "metadata": {},
   "outputs": [],
   "source": []
  }
 ],
 "metadata": {
  "kernelspec": {
   "display_name": "Python 3",
   "language": "python",
   "name": "python3"
  },
  "language_info": {
   "codemirror_mode": {
    "name": "ipython",
    "version": 3
   },
   "file_extension": ".py",
   "mimetype": "text/x-python",
   "name": "python",
   "nbconvert_exporter": "python",
   "pygments_lexer": "ipython3",
   "version": "3.7.1"
  }
 },
 "nbformat": 4,
 "nbformat_minor": 4
}
