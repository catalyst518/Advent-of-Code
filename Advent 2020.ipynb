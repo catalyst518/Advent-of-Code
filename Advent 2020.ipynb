{
 "cells": [
  {
   "cell_type": "code",
   "execution_count": 19,
   "metadata": {},
   "outputs": [
    {
     "name": "stdout",
     "output_type": "stream",
     "text": [
      "55776\n",
      "223162626\n"
     ]
    }
   ],
   "source": [
    "#day 1\n",
    "def loop():\n",
    "    for i in data:\n",
    "        for j in data:\n",
    "            if i+j==2020:\n",
    "                print(i*j)\n",
    "                return\n",
    "def loop3():\n",
    "    for i in data:\n",
    "        for j in data:\n",
    "            for k in data:\n",
    "                if i+j+k==2020:\n",
    "                    print(i*j*k)\n",
    "                    return\n",
    "with open(\"input1.txt\") as input:\n",
    "    data=[int(i) for i in input]\n",
    "loop()#part 1\n",
    "loop3()#part 2"
   ]
  },
  {
   "cell_type": "code",
   "execution_count": 22,
   "metadata": {},
   "outputs": [
    {
     "name": "stdout",
     "output_type": "stream",
     "text": [
      "434\n"
     ]
    }
   ],
   "source": [
    "#day 2, part 1\n",
    "count=0\n",
    "with open(\"input2.txt\") as input:\n",
    "    for line in input:\n",
    "        limit,letter=line.split(':')[0].split()\n",
    "        low,high=map(int,limit.split('-'))\n",
    "        password=line.split(':')[1].strip()\n",
    "        if low<=password.count(letter)<=high:\n",
    "            count+=1\n",
    "print(count)"
   ]
  },
  {
   "cell_type": "code",
   "execution_count": 23,
   "metadata": {},
   "outputs": [
    {
     "name": "stdout",
     "output_type": "stream",
     "text": [
      "509\n"
     ]
    }
   ],
   "source": [
    "#day2, part 2\n",
    "count=0\n",
    "with open(\"input2.txt\") as input:\n",
    "    for line in input:\n",
    "        limit,letter=line.split(':')[0].split()\n",
    "        low,high=map(int,limit.split('-'))\n",
    "        password=line.split(':')[1].strip()\n",
    "        if password[low-1]==letter and password[high-1]!=letter:\n",
    "            count+=1\n",
    "        elif password[low-1]!=letter and password[high-1]==letter:\n",
    "            count+=1\n",
    "print(count)"
   ]
  },
  {
   "cell_type": "code",
   "execution_count": null,
   "metadata": {},
   "outputs": [],
   "source": []
  }
 ],
 "metadata": {
  "kernelspec": {
   "display_name": "Python 3",
   "language": "python",
   "name": "python3"
  },
  "language_info": {
   "codemirror_mode": {
    "name": "ipython",
    "version": 3
   },
   "file_extension": ".py",
   "mimetype": "text/x-python",
   "name": "python",
   "nbconvert_exporter": "python",
   "pygments_lexer": "ipython3",
   "version": "3.7.1"
  }
 },
 "nbformat": 4,
 "nbformat_minor": 4
}
