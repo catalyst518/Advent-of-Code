{
 "cells": [
  {
   "cell_type": "code",
   "execution_count": 19,
   "metadata": {},
   "outputs": [
    {
     "name": "stdout",
     "output_type": "stream",
     "text": [
      "55776\n",
      "223162626\n"
     ]
    }
   ],
   "source": [
    "#day 1\n",
    "def loop():\n",
    "    for i in data:\n",
    "        for j in data:\n",
    "            if i+j==2020:\n",
    "                print(i*j)\n",
    "                return\n",
    "def loop3():\n",
    "    for i in data:\n",
    "        for j in data:\n",
    "            for k in data:\n",
    "                if i+j+k==2020:\n",
    "                    print(i*j*k)\n",
    "                    return\n",
    "with open(\"input1.txt\") as input:\n",
    "    data=[int(i) for i in input]\n",
    "loop()#part 1\n",
    "loop3()#part 2"
   ]
  },
  {
   "cell_type": "code",
   "execution_count": 22,
   "metadata": {},
   "outputs": [
    {
     "name": "stdout",
     "output_type": "stream",
     "text": [
      "434\n"
     ]
    }
   ],
   "source": [
    "#day 2, part 1\n",
    "count=0\n",
    "with open(\"input2.txt\") as input:\n",
    "    for line in input:\n",
    "        limit,letter=line.split(':')[0].split()\n",
    "        low,high=map(int,limit.split('-'))\n",
    "        password=line.split(':')[1].strip()\n",
    "        if low<=password.count(letter)<=high:\n",
    "            count+=1\n",
    "print(count)"
   ]
  },
  {
   "cell_type": "code",
   "execution_count": 23,
   "metadata": {},
   "outputs": [
    {
     "name": "stdout",
     "output_type": "stream",
     "text": [
      "509\n"
     ]
    }
   ],
   "source": [
    "#day 2, part 2\n",
    "count=0\n",
    "with open(\"input2.txt\") as input:\n",
    "    for line in input:\n",
    "        limit,letter=line.split(':')[0].split()\n",
    "        low,high=map(int,limit.split('-'))\n",
    "        password=line.split(':')[1].strip()\n",
    "        if password[low-1]==letter and password[high-1]!=letter:\n",
    "            count+=1\n",
    "        elif password[low-1]!=letter and password[high-1]==letter:\n",
    "            count+=1\n",
    "print(count)"
   ]
  },
  {
   "cell_type": "code",
   "execution_count": 89,
   "metadata": {},
   "outputs": [
    {
     "name": "stdout",
     "output_type": "stream",
     "text": [
      "part 1: 223\n",
      "part 2: 3517401300\n"
     ]
    }
   ],
   "source": [
    "#day 3\n",
    "with open (\"input3.txt\") as input:\n",
    "    terrain=[line.strip() for line in input]\n",
    "def slope(right,down):\n",
    "    xlen=len(terrain[0])\n",
    "    ylen=len(terrain)\n",
    "    count=0\n",
    "    x=0\n",
    "    for y in range(down,ylen,down):\n",
    "        if x+right>=xlen:\n",
    "            x=x-xlen+right\n",
    "        else:\n",
    "            x+=right\n",
    "        if terrain[y][x]=='#':\n",
    "            count+=1\n",
    "    return count\n",
    "print(\"part 1:\",slope(3,1))\n",
    "print(\"part 2:\",slope(1,1)*slope(3,1)*slope(5,1)*slope(7,1)*slope(1,2))"
   ]
  },
  {
   "cell_type": "code",
   "execution_count": 55,
   "metadata": {},
   "outputs": [
    {
     "name": "stdout",
     "output_type": "stream",
     "text": [
      "242\n"
     ]
    }
   ],
   "source": [
    "#day 4, part 1\n",
    "def validate(data):\n",
    "    requirements=['byr','iyr','eyr','hgt','hcl','ecl','pid']\n",
    "    for i in requirements:\n",
    "        if i not in data:\n",
    "            return 0\n",
    "    return 1\n",
    "\n",
    "with open (\"input4.txt\") as input:\n",
    "    data=[]\n",
    "    valid=0\n",
    "    for line in input:\n",
    "        if line.strip():\n",
    "            for info in line.strip().split():\n",
    "                data.append(info.split(':')[0])\n",
    "        else:\n",
    "            #end of passport\n",
    "            valid+=validate(data)\n",
    "            data=[]\n",
    "    valid+=validate(data)\n",
    "print(valid)"
   ]
  },
  {
   "cell_type": "code",
   "execution_count": 56,
   "metadata": {},
   "outputs": [
    {
     "name": "stdout",
     "output_type": "stream",
     "text": [
      "186\n"
     ]
    }
   ],
   "source": [
    "#day 4, part 2\n",
    "def validate(data):\n",
    "    if None in data.values():\n",
    "        return 0\n",
    "    if not 1920<=int(data['byr'])<=2002 or len(data['byr'])!=4:\n",
    "        return 0\n",
    "    if not 2010<=int(data['iyr'])<=2020 or len(data['byr'])!=4:\n",
    "        return 0\n",
    "    if not 2020<=int(data['eyr'])<=2030 or len(data['byr'])!=4:\n",
    "        return 0\n",
    "    if data['ecl'] not in 'amb blu brn gry grn hzl oth'.split():\n",
    "        return 0\n",
    "    if len(data['pid'])!=9:\n",
    "        return 0\n",
    "    for i in data['pid']:\n",
    "        try:\n",
    "            int(i)\n",
    "        except:\n",
    "            return 0\n",
    "    if data['hcl'][0]!='#':\n",
    "        return 0\n",
    "    for i in data['hcl'][1:]:\n",
    "        if str(i) not in '0123456789abcdef':\n",
    "            return 0\n",
    "    if data['hgt'][-2:]=='cm':\n",
    "        if not 150<=int(data['hgt'][:-2])<=193:\n",
    "            return 0\n",
    "    elif data['hgt'][-2:]=='in':\n",
    "        if not 56<=int(data['hgt'][:-2])<=76:\n",
    "            return 0\n",
    "    else:\n",
    "        return 0\n",
    "    return 1\n",
    "\n",
    "with open (\"input4.txt\") as input:\n",
    "    requirements={'byr','iyr','eyr','hgt','hcl','ecl','pid'}\n",
    "    data=dict.fromkeys(requirements,None)\n",
    "    valid=0\n",
    "    for line in input:\n",
    "        if line.strip():\n",
    "            for info in line.strip().split():\n",
    "                data[info.split(':')[0]]=info.split(':')[1]\n",
    "        else:\n",
    "            #end of passport\n",
    "            valid+=validate(data)\n",
    "            data=dict.fromkeys(requirements,None)\n",
    "    valid+=validate(data)\n",
    "print(valid)"
   ]
  },
  {
   "cell_type": "code",
   "execution_count": 1,
   "metadata": {},
   "outputs": [
    {
     "name": "stdout",
     "output_type": "stream",
     "text": [
      "part 1: 855\n",
      "part 2: 552\n"
     ]
    }
   ],
   "source": [
    "#day 5\n",
    "seats=[]\n",
    "with open (\"input5.txt\") as input:\n",
    "    for line in input:\n",
    "        row=[*range(128)]\n",
    "        col=[*range(8)]\n",
    "        for i in line[:7]:\n",
    "            if i=='F':\n",
    "                row=row[:len(row)//2]\n",
    "            else:\n",
    "                row=row[len(row)//2:]\n",
    "        for i in line.strip()[7:]:\n",
    "            if i=='L':\n",
    "                col=col[:len(col)//2]\n",
    "            else:\n",
    "                col=col[len(col)//2:]\n",
    "        seats.append(row[0]*8+col[0])\n",
    "print(\"part 1:\",max(seats))\n",
    "for i in range(min(seats)+1,max(seats)):\n",
    "    if i not in seats and i+1 in seats and i-1 in seats:\n",
    "        print(\"part 2:\",i)\n",
    "        break"
   ]
  },
  {
   "cell_type": "code",
   "execution_count": 9,
   "metadata": {},
   "outputs": [
    {
     "name": "stdout",
     "output_type": "stream",
     "text": [
      "part 1: 855\n",
      "part 2: 552\n"
     ]
    }
   ],
   "source": [
    "#day 5\n",
    "seats=[]\n",
    "with open (\"input5.txt\") as input:\n",
    "    for line in input:\n",
    "        row=[*range(128)]\n",
    "        col=[*range(8)]\n",
    "        for i in line[:7]:\n",
    "            if i=='F':\n",
    "                row=row[:len(row)//2]\n",
    "            else:\n",
    "                row=row[len(row)//2:]\n",
    "        for i in line.strip()[7:]:\n",
    "            if i=='L':\n",
    "                col=col[:len(col)//2]\n",
    "            else:\n",
    "                col=col[len(col)//2:]\n",
    "        seats.append(row[0]*8+col[0])\n",
    "print(\"part 1:\",max(seats))\n",
    "print(\"part 2:\",[i for i in range(min(seats)+1,max(seats)) if i not in seats and i+1 in seats and i-1 in seats][0])"
   ]
  },
  {
   "cell_type": "code",
   "execution_count": 9,
   "metadata": {},
   "outputs": [
    {
     "name": "stdout",
     "output_type": "stream",
     "text": [
      "6878\n"
     ]
    }
   ],
   "source": [
    "# day 6, part 1\n",
    "with open (\"input6.txt\") as input:\n",
    "    yes=0\n",
    "    group=set()\n",
    "    for line in input:\n",
    "        if line.strip():\n",
    "            for i in line.strip():\n",
    "                group.add(i)\n",
    "        else:\n",
    "            #end of group\n",
    "            yes+=len(group)\n",
    "            group.clear()\n",
    "    yes+=len(group)\n",
    "print(yes)"
   ]
  },
  {
   "cell_type": "code",
   "execution_count": 24,
   "metadata": {},
   "outputs": [
    {
     "name": "stdout",
     "output_type": "stream",
     "text": [
      "3464\n"
     ]
    }
   ],
   "source": [
    "# day 6, part 2\n",
    "with open (\"input6.txt\") as input:\n",
    "    yes=0\n",
    "    size=0\n",
    "    group=[]\n",
    "    for line in input:\n",
    "        if line.strip():\n",
    "            for i in line.strip():\n",
    "                group.append(i)\n",
    "            size+=1\n",
    "        else:\n",
    "            #end of group\n",
    "            for i in set(group):\n",
    "                if group.count(i)==size:\n",
    "                    yes+=1\n",
    "            group=[]\n",
    "            size=0\n",
    "    for i in set(group):\n",
    "        if group.count(i)==size:\n",
    "            yes+=1\n",
    "print(yes)"
   ]
  },
  {
   "cell_type": "code",
   "execution_count": 222,
   "metadata": {},
   "outputs": [
    {
     "name": "stdout",
     "output_type": "stream",
     "text": [
      "part 1: 238\n",
      "part 2: 82930\n"
     ]
    }
   ],
   "source": [
    "#day 7\n",
    "def inspect(bag):\n",
    "    if bag==\"shiny gold bag\":\n",
    "        return 0\n",
    "    elif \"other bag\" in [i[1] for i in data[bag]]:\n",
    "        return 0\n",
    "    elif \"shiny gold bag\" in [i[1] for i in data[bag]]:\n",
    "        return 1\n",
    "    else:\n",
    "        for j in [i[1] for i in data[bag]]:\n",
    "            if inspect(j):\n",
    "                return 1\n",
    "        return 0\n",
    "def contents(bag):\n",
    "    if \"other bag\" in [i[1] for i in data[bag]]:\n",
    "        return 1\n",
    "    else:\n",
    "        c=0\n",
    "        for i in data[bag]:\n",
    "            c+=int(i[0])*contents(i[1])\n",
    "        return c+1\n",
    "with open (\"input7.txt\") as input:\n",
    "    data={}\n",
    "    valid=0\n",
    "    for line in input:\n",
    "        bag,inside=[i[:-1] for i in line.split(\" contain \")]\n",
    "        data[bag]=[i.strip().strip('.').strip('s').split(\" \",1) for i in inside.split(\",\")]\n",
    "colors=0\n",
    "for i in data:\n",
    "    colors+=inspect(i)\n",
    "print(\"part 1:\",colors)\n",
    "total=0\n",
    "for i in data['shiny gold bag']:\n",
    "    total+=int(i[0])*contents(i[1])\n",
    "print(\"part 2:\",total)"
   ]
  },
  {
   "cell_type": "code",
   "execution_count": 108,
   "metadata": {},
   "outputs": [
    {
     "name": "stdout",
     "output_type": "stream",
     "text": [
      "part 1: 1614\n",
      "part 2: 1260\n"
     ]
    }
   ],
   "source": [
    "#day 8\n",
    "with open (\"input8.txt\") as input:\n",
    "    data=[line.strip().split()+[0] for line in input]\n",
    "def loop(in_list):\n",
    "    op=[x[:] for x in in_list]\n",
    "    infinite=False\n",
    "    i=0\n",
    "    acc=0\n",
    "    while i<len(op):\n",
    "        if op[i][2]==1:\n",
    "            infinite=True\n",
    "            break\n",
    "        if op[i][0]=='nop':\n",
    "            op[i][2]=1\n",
    "            i+=1\n",
    "            continue\n",
    "        elif op[i][0]=='acc':\n",
    "            op[i][2]=1\n",
    "            if int(op[i][1])<=0:\n",
    "                acc+=int(op[i][1])\n",
    "            else:\n",
    "                acc+=int(op[i][1][1:])\n",
    "            i+=1\n",
    "            continue\n",
    "        elif op[i][0]=='jmp':\n",
    "            op[i][2]=1\n",
    "            if int(op[i][1])<=0:\n",
    "                i+=int(op[i][1])\n",
    "            else:\n",
    "                i+=int(op[i][1][1:])\n",
    "            continue\n",
    "    return acc,infinite\n",
    "print(\"part 1:\",loop(data)[0])\n",
    "for i,x in  enumerate(data):\n",
    "    edit=[j[:] for j in data]\n",
    "    if x[0]=='nop':\n",
    "        edit[i][0]='jmp'\n",
    "    elif x[0]=='jmp':\n",
    "        edit[i][0]='nop'\n",
    "    else:\n",
    "        continue\n",
    "    acc,infinite=loop(edit)\n",
    "    if not infinite:\n",
    "        print(\"part 2:\",acc)\n",
    "        break"
   ]
  },
  {
   "cell_type": "code",
   "execution_count": 67,
   "metadata": {},
   "outputs": [
    {
     "name": "stdout",
     "output_type": "stream",
     "text": [
      "part 1: 22406676\n",
      "part 2: 2942387\n"
     ]
    }
   ],
   "source": [
    "#day 9\n",
    "with open (\"input9.txt\") as input:\n",
    "    data=[int(line) for line in input]\n",
    "preamble=25\n",
    "for i,x in enumerate(data[preamble:]):\n",
    "    found=False\n",
    "    for j,y in enumerate(data[i:i+preamble],i):\n",
    "        if not found:\n",
    "            for k in data[j+1:i+preamble]:\n",
    "                if y+k==x:\n",
    "                    found=True\n",
    "                    break\n",
    "    if not found:\n",
    "        print(\"part 1:\",x)\n",
    "        break\n",
    "def part2(data):\n",
    "    for i,y in enumerate(data):\n",
    "        contig=[y]\n",
    "        for j in data[i+1:]:\n",
    "            contig.append(j)\n",
    "            if sum(contig)==x:\n",
    "                print(\"part 2:\",min(contig)+max(contig))\n",
    "                return\n",
    "            elif sum(contig)>x:\n",
    "                break\n",
    "part2(data)"
   ]
  },
  {
   "cell_type": "code",
   "execution_count": 95,
   "metadata": {},
   "outputs": [
    {
     "name": "stdout",
     "output_type": "stream",
     "text": [
      "part 1: 2240\n",
      "part 2: 99214346656768\n"
     ]
    }
   ],
   "source": [
    "#day 10\n",
    "with open (\"input10.txt\") as input:\n",
    "    data=[int(line) for line in input]\n",
    "data.append(0)\n",
    "data.sort()\n",
    "deltas=[]\n",
    "for i,j in enumerate(data[1:],1):\n",
    "    deltas.append(j-data[i-1])\n",
    "deltas.append(3)\n",
    "print(\"part 1:\",deltas.count(1)*deltas.count(3))\n",
    "multiplier={1:1,2:2,3:4,4:7,5:12}#see permutation note below\n",
    "ones=0\n",
    "total=1\n",
    "for i in deltas:\n",
    "    if i==3:\n",
    "        if ones:\n",
    "            total*=multiplier[ones]\n",
    "            ones=0\n",
    "    else:\n",
    "        ones+=1\n",
    "print(\"part 2:\", total)"
   ]
  },
  {
   "cell_type": "markdown",
   "metadata": {},
   "source": [
    "Permutation notes for day 10, part 2:  \n",
    "Search for substrings of 1's in deltas to get number of permutations for that substring\n",
    "\n",
    "[1]=1\n",
    "\n",
    "[1,1]=2\n",
    "\n",
    "[1,1,1]=4\n",
    "\n",
    "[1,1,1,1]=7\n",
    "\n",
    "[1,1,1,1,1]=13"
   ]
  },
  {
   "cell_type": "code",
   "execution_count": 7,
   "metadata": {
    "scrolled": true
   },
   "outputs": [
    {
     "name": "stdout",
     "output_type": "stream",
     "text": [
      "part 1: 2468\n",
      "part 2: 2214\n"
     ]
    }
   ],
   "source": [
    "#day 11\n",
    "with open (\"input11.txt\") as input:\n",
    "    seats=[line.strip() for line in input]\n",
    "xlen=len(seats[0])\n",
    "ylen=len(seats)\n",
    "def up(old,x,y):\n",
    "    for j in range(y-1,-1,-1):\n",
    "        if 0<=j<ylen:\n",
    "            if old[j][x]=='#':\n",
    "                return 1\n",
    "            elif old[j][x]=='L':\n",
    "                return 0\n",
    "    return 0\n",
    "def down(old,x,y):\n",
    "    for j in range(y+1,ylen):\n",
    "        if 0<=j<ylen:\n",
    "            if old[j][x]=='#':\n",
    "                return 1\n",
    "            elif old[j][x]=='L':\n",
    "                return 0\n",
    "    return 0\n",
    "def right(old,x,y):\n",
    "    for i in range(x+1,xlen):\n",
    "        if 0<=i<xlen:\n",
    "            if old[y][i]=='#':\n",
    "                return 1\n",
    "            elif old[y][i]=='L':\n",
    "                return 0\n",
    "    return 0\n",
    "def left(old,x,y):\n",
    "    for i in range(x-1,-1,-1):\n",
    "        if 0<=i<xlen:\n",
    "            if old[y][i]=='#':\n",
    "                return 1\n",
    "            elif old[y][i]=='L':\n",
    "                return 0\n",
    "    return 0\n",
    "def NW(old,x,y):\n",
    "    j=y\n",
    "    for i in range(x-1,-1,-1):\n",
    "        j-=1\n",
    "        if 0<=i<xlen and 0<=j<ylen:\n",
    "            if old[j][i]=='#':\n",
    "                return 1\n",
    "            elif old[j][i]=='L':\n",
    "                return 0\n",
    "    return 0\n",
    "def SW(old,x,y):\n",
    "    j=y\n",
    "    for i in range(x-1,-1,-1):\n",
    "        j+=1\n",
    "        if 0<=i<xlen and 0<=j<ylen:\n",
    "            if old[j][i]=='#':\n",
    "                return 1\n",
    "            elif old[j][i]=='L':\n",
    "                return 0\n",
    "    return 0\n",
    "def NE(old,x,y):\n",
    "    j=y\n",
    "    for i in range(x+1,xlen):\n",
    "        j-=1\n",
    "        if 0<=i<xlen and 0<=j<ylen:\n",
    "            if old[j][i]=='#':\n",
    "                return 1\n",
    "            elif old[j][i]=='L':\n",
    "                return 0\n",
    "    return 0\n",
    "def SE(old,x,y):\n",
    "    j=y\n",
    "    for i in range(x+1,xlen):\n",
    "        j+=1\n",
    "        if 0<=i<xlen and 0<=j<ylen:\n",
    "            if old[j][i]=='#':\n",
    "                return 1\n",
    "            elif old[j][i]=='L':\n",
    "                return 0\n",
    "    return 0\n",
    "def adjacent1(old,x,y):\n",
    "    occupied=0\n",
    "    for i in range(x-1,x+2):\n",
    "        for j in range(y-1,y+2):\n",
    "            if 0<=i<xlen and 0<=j<ylen and not (i==x and j==y):\n",
    "                if old[j][i]=='#':\n",
    "                    occupied+=1\n",
    "    return occupied        \n",
    "def adjacent2(old,x,y):\n",
    "    return up(old,x,y)+down(old,x,y)+left(old,x,y)+right(old,x,y)+NE(old,x,y)+NW(old,x,y)+SE(old,x,y)+SW(old,x,y)  \n",
    "def sit(old,limit):\n",
    "    count=0\n",
    "    new=[]\n",
    "    for y in range(ylen):\n",
    "        new.append([])\n",
    "        for x in range(xlen):\n",
    "            if old[y][x]!='.':\n",
    "                if limit==4:\n",
    "                    adj=adjacent1(old,x,y)\n",
    "                else:\n",
    "                    adj=adjacent2(old,x,y)\n",
    "                if adj==0 and old[y][x]=='L':\n",
    "                    new[y].append('#')\n",
    "                    count+=1\n",
    "                elif adj>=limit and old[y][x]=='#':\n",
    "                    new[y].append('L')\n",
    "                    count+=1\n",
    "                else:\n",
    "                    new[y].append(old[y][x])\n",
    "            else:\n",
    "                new[y].append(old[y][x])\n",
    "    return count,new\n",
    "def loop(seats,limit):\n",
    "    moved=1\n",
    "    while moved:\n",
    "        moved,seats=sit(seats,limit)\n",
    "    return sum(row.count('#') for row in seats)\n",
    "print(\"part 1:\",loop(seats,4))\n",
    "print(\"part 2:\",loop(seats,5))"
   ]
  },
  {
   "cell_type": "code",
   "execution_count": 62,
   "metadata": {},
   "outputs": [
    {
     "name": "stdout",
     "output_type": "stream",
     "text": [
      "part 1: 1010\n",
      "part 2: 52742\n"
     ]
    }
   ],
   "source": [
    "#day 12\n",
    "import numpy as np #no need to reinvent vector math\n",
    "\n",
    "with open (\"input12.txt\") as input:\n",
    "    data=[line.strip() for line in input]\n",
    "r=np.array([0,0])\n",
    "theta=0\n",
    "for line in data:\n",
    "    a=line[0]\n",
    "    b=int(line[1:])\n",
    "    if a=='L':\n",
    "        theta+=b*np.pi/180\n",
    "    elif a=='R':\n",
    "        theta-=b*np.pi/180\n",
    "    else:\n",
    "        if a=='N':\n",
    "            heading=np.pi/2\n",
    "        elif a=='S':\n",
    "            heading=3*np.pi/2\n",
    "        elif a=='E':\n",
    "            heading=0\n",
    "        elif a=='W':\n",
    "            heading=np.pi\n",
    "        else:\n",
    "            heading=theta\n",
    "        r+=[b*int(np.cos(heading)),b*int(np.sin(heading))]\n",
    "print(\"part 1:\",abs(r[0])+abs(r[1]))\n",
    "r=np.array([0,0])\n",
    "wp=np.array([10,1])\n",
    "for line in data:\n",
    "    a=line[0]\n",
    "    b=int(line[1:])\n",
    "    if a=='L':\n",
    "        c=int(np.cos(b*np.pi/180))\n",
    "        s=int(np.sin(b*np.pi/180))\n",
    "        wp=np.array(((c,-s),(s,c)))@wp\n",
    "    elif a=='R':\n",
    "        c=int(np.cos(-b*np.pi/180))\n",
    "        s=int(np.sin(-b*np.pi/180))\n",
    "        wp=np.array(((c,-s),(s,c)))@wp\n",
    "    elif a=='F':\n",
    "        r=r+b*wp\n",
    "    else:\n",
    "        if a=='N':\n",
    "            heading=np.pi/2\n",
    "        elif a=='S':\n",
    "            heading=3*np.pi/2\n",
    "        elif a=='E':\n",
    "            heading=0\n",
    "        elif a=='W':\n",
    "            heading=np.pi\n",
    "        wp+=[b*int(np.cos(heading)),b*int(np.sin(heading))]\n",
    "print(\"part 2:\",abs(r[0])+abs(r[1]))"
   ]
  },
  {
   "cell_type": "code",
   "execution_count": 3,
   "metadata": {},
   "outputs": [
    {
     "name": "stdout",
     "output_type": "stream",
     "text": [
      "203\n"
     ]
    }
   ],
   "source": [
    "#day 13, part 1\n",
    "with open (\"input13.txt\") as input:\n",
    "    req=int(input.readline().strip())\n",
    "    ids=input.readline().strip().split(',')\n",
    "min=[req,0]\n",
    "for x in ids:\n",
    "    if x!='x':\n",
    "        i=int(x)\n",
    "        m=i-req%i\n",
    "        if m<min[0]:\n",
    "            min=[m,i]\n",
    "print(min[0]*min[1])"
   ]
  },
  {
   "cell_type": "code",
   "execution_count": 173,
   "metadata": {},
   "outputs": [
    {
     "name": "stdout",
     "output_type": "stream",
     "text": [
      "905694340256752\n"
     ]
    }
   ],
   "source": [
    "#day 13, part 2\n",
    "# This is asking for a solution of a system of congruences\n",
    "# Note that all bus ids are prime numbers\n",
    "# x=a_1 (mod id_1)\n",
    "# x=a_i (mod id_i)\n",
    "# where x=earliest timestamp solution\n",
    "# a_i=bus id-minute offset from x\n",
    "# id_i=bus ids\n",
    "# Ex:\n",
    "#     1068781=0 (mod7)\n",
    "#     1068781=12 (mod 13)\n",
    "#     1068781=55 (mod 59)\n",
    "#     ...\n",
    "# The Chinese Remainder Theorem solves for x\n",
    "# The Extended Euclidean Algorithm is used to get Bezout coefficients:\n",
    "# r_i*id_i+s_i*N/id_i=1\n",
    "# x=sum(a_i*s_i*N/id_i) where N=product(id_i)\n",
    "from functools import reduce\n",
    "\n",
    "def extended(a,b):\n",
    "    r0,r1=a,b\n",
    "    s0,s1=1,0\n",
    "    while r1!=0:\n",
    "        q=r0//r1\n",
    "        r0,r1=r1,r0-q*r1\n",
    "        s0,s1=s1,s0-q*s1\n",
    "    if s0<0:\n",
    "        s0+=b\n",
    "    return s0\n",
    "with open (\"input13.txt\") as input:\n",
    "    req=int(input.readline().strip())\n",
    "    ids=input.readline().strip().split(',')\n",
    "id_i=[[int(id),int(id)-i] for i,id in enumerate(ids) if id!='x']\n",
    "total=0\n",
    "N=reduce(lambda x,y:x*y,[i[0] for i in id_i])\n",
    "for i in id_i:\n",
    "    total+=i[1]*N//i[0]*extended(N//i[0],i[0])\n",
    "print(total%N)    "
   ]
  },
  {
   "cell_type": "code",
   "execution_count": 9,
   "metadata": {},
   "outputs": [
    {
     "name": "stdout",
     "output_type": "stream",
     "text": [
      "4886706177792\n"
     ]
    }
   ],
   "source": [
    "#day 14, part 1\n",
    "memory={}\n",
    "mask=0\n",
    "with open (\"input14.txt\") as input:\n",
    "    for line in input:\n",
    "        if '[' in line:\n",
    "            address=line.split('[')[1].split(']')[0]\n",
    "            value=format(int(line.split('=')[1].strip()),'036b')\n",
    "            for i,x in enumerate(mask):\n",
    "                if x!='X':\n",
    "                    value=value[:i]+x+value[i+1:]\n",
    "            memory[address]=value\n",
    "        else:\n",
    "            mask=line.split('=')[1].strip()\n",
    "print(sum([int(i,2) for i in memory.values()]))"
   ]
  },
  {
   "cell_type": "code",
   "execution_count": 34,
   "metadata": {},
   "outputs": [
    {
     "name": "stdout",
     "output_type": "stream",
     "text": [
      "3348493585827\n"
     ]
    }
   ],
   "source": [
    "#day 14, part 2\n",
    "memory={}\n",
    "mask=0\n",
    "with open (\"input14.txt\") as input:\n",
    "    for line in input:\n",
    "        if '[' in line:\n",
    "            address=format(int(line.split('[')[1].split(']')[0]),'036b')\n",
    "            value=int(line.split('=')[1].strip())\n",
    "            for i,x in enumerate(mask):\n",
    "                if x=='1':\n",
    "                    address=address[:i]+x+address[i+1:]\n",
    "            locations=set([address])\n",
    "            for i,x in enumerate(mask):\n",
    "                if x=='X':\n",
    "                    new=set()\n",
    "                    for loc in locations:\n",
    "                        new.add(loc[:i]+'1'+loc[i+1:])\n",
    "                        new.add(loc[:i]+'0'+loc[i+1:])\n",
    "                    locations=locations.union(new)\n",
    "            for loc in locations:\n",
    "                memory[loc]=value\n",
    "        else:\n",
    "            mask=line.split('=')[1].strip()\n",
    "print(sum(memory.values()))"
   ]
  },
  {
   "cell_type": "code",
   "execution_count": 4,
   "metadata": {},
   "outputs": [
    {
     "name": "stdout",
     "output_type": "stream",
     "text": [
      "part 1: 410\n",
      "part 1: 238\n"
     ]
    }
   ],
   "source": [
    "#day 15\n",
    "def game(starting,goal):\n",
    "    numbers=[0]*goal\n",
    "    for i,x in enumerate(starting):\n",
    "        numbers[x]=i+1\n",
    "    n=starting[-1]\n",
    "    for i in range(len(starting)+1,goal+1):\n",
    "        if numbers[n]:\n",
    "            old=n\n",
    "            n=i-1-numbers[n]\n",
    "            numbers[old]=i-1\n",
    "        else:\n",
    "            numbers[n]=i-1\n",
    "            n=0\n",
    "    return n\n",
    "print(\"part 1:\",game([7,12,1,0,16,2],2020))\n",
    "print(\"part 1:\",game([7,12,1,0,16,2],30000000))"
   ]
  },
  {
   "cell_type": "code",
   "execution_count": 73,
   "metadata": {},
   "outputs": [
    {
     "name": "stdout",
     "output_type": "stream",
     "text": [
      "part 1: 32835\n",
      "departure platform 61\n",
      "departure time 193\n",
      "departure track 79\n",
      "departure station 59\n",
      "departure date 83\n",
      "departure location 113\n",
      "part 2: 514662805187\n"
     ]
    }
   ],
   "source": [
    "#day 16\n",
    "with open (\"input16.txt\") as input:\n",
    "    ticketline=False\n",
    "    nearbyline=False\n",
    "    nearby=[]\n",
    "    valid=set()\n",
    "    fields={}\n",
    "    for line in input:\n",
    "        if nearbyline:\n",
    "            nearby.append([int(i) for i in line.strip().split(',')])\n",
    "        elif 'nearby tickets' in line:\n",
    "            nearbyline=True\n",
    "        elif 'your ticket' in line:\n",
    "            ticketline=True\n",
    "        elif ticketline:\n",
    "            yourticket=[int(i) for i in line.strip().split(',')]\n",
    "            ticketline=False\n",
    "        elif ':' in line:\n",
    "            field,nums=line.split(':')\n",
    "            fields[field]=set()\n",
    "            for i in nums.split('or'):\n",
    "                low,high=[int(n) for n in i.strip().split('-')]\n",
    "                for j in range(low,high+1):\n",
    "                    valid.add(j)\n",
    "                    fields[field].add(j)\n",
    "error=0\n",
    "validtickets=[]\n",
    "for ticket in nearby:\n",
    "    err=False\n",
    "    for val in ticket:\n",
    "        if val not in valid:\n",
    "            error+=int(val)\n",
    "            err=True\n",
    "    if not err:\n",
    "        validtickets.append(ticket)  \n",
    "print(\"part 1:\",error)\n",
    "# print(fields,validtickets)\n",
    "index={}\n",
    "possible={}\n",
    "for i in range(len(validtickets[0])):\n",
    "    possible[i]=[]\n",
    "    for field in fields:\n",
    "        allvalid=True\n",
    "        for ticket in validtickets:\n",
    "            if ticket[i] not in fields[field]:\n",
    "#                 print(ticket[i],field)\n",
    "                allvalid=False\n",
    "                break\n",
    "        if allvalid:\n",
    "#             print(\"found!\",field,i)\n",
    "#             index[field]=i\n",
    "            possible[i].append(field)\n",
    "for i in range(len(possible)):\n",
    "    for j in possible:\n",
    "        if len(possible[j])==1:\n",
    "            found=possible[j][0]\n",
    "            index[found]=j\n",
    "            break\n",
    "    for j in possible:\n",
    "        if found in possible[j]:\n",
    "            possible[j].remove(found)\n",
    "        \n",
    "#         print(i,possible[i])\n",
    "# print(index,yourticket[index['class']])\n",
    "product=1\n",
    "for field in index:\n",
    "    if 'departure' in field:\n",
    "        product*=yourticket[index[field]]print(\"part 2:\",product)"
   ]
  },
  {
   "cell_type": "code",
   "execution_count": 70,
   "metadata": {},
   "outputs": [
    {
     "name": "stdout",
     "output_type": "stream",
     "text": [
      "['departure location', 'departure station', 'departure platform', 'departure track', 'departure date', 'departure time', 'arrival location', 'arrival station', 'arrival platform', 'arrival track', 'class', 'duration', 'route', 'row', 'seat', 'train', 'type', 'wagon']\n",
      "['departure platform', 'departure time', 'arrival location', 'arrival track', 'class', 'duration', 'route', 'seat', 'train', 'type']\n",
      "['departure station', 'departure platform', 'departure track', 'departure time', 'arrival location', 'arrival track', 'class', 'duration', 'route', 'seat', 'train', 'type']\n",
      "['arrival location', 'arrival track', 'class', 'duration', 'route', 'seat', 'train']\n",
      "['arrival location', 'arrival track', 'class', 'duration', 'seat', 'train']\n",
      "['departure location', 'departure station', 'departure platform', 'departure track', 'departure date', 'departure time', 'arrival location', 'arrival station', 'arrival platform', 'arrival track', 'class', 'duration', 'route', 'row', 'seat', 'train', 'type']\n",
      "['departure platform', 'arrival location', 'arrival track', 'class', 'duration', 'route', 'seat', 'train', 'type']\n",
      "['arrival location', 'arrival track', 'class']\n",
      "['departure location', 'departure station', 'departure platform', 'departure track', 'departure date', 'departure time', 'arrival location', 'arrival station', 'arrival platform', 'arrival track', 'class', 'duration', 'route', 'row', 'seat', 'train', 'type', 'wagon', 'zone']\n",
      "['arrival location', 'class']\n",
      "['arrival location', 'arrival track', 'class', 'duration', 'train']\n",
      "['arrival location', 'arrival track', 'class', 'train']\n",
      "['class']\n",
      "['departure platform', 'departure track', 'departure time', 'arrival location', 'arrival track', 'class', 'duration', 'route', 'seat', 'train', 'type']\n",
      "['departure station', 'departure platform', 'departure track', 'departure date', 'departure time', 'arrival location', 'arrival track', 'class', 'duration', 'route', 'seat', 'train', 'type']\n",
      "['departure location', 'departure station', 'departure platform', 'departure track', 'departure date', 'departure time', 'arrival location', 'arrival track', 'class', 'duration', 'route', 'seat', 'train', 'type']\n",
      "['arrival location', 'arrival track', 'class', 'duration', 'route', 'seat', 'train', 'type']\n",
      "['departure location', 'departure station', 'departure platform', 'departure track', 'departure date', 'departure time', 'arrival location', 'arrival station', 'arrival track', 'class', 'duration', 'route', 'row', 'seat', 'train', 'type']\n",
      "['departure location', 'departure station', 'departure platform', 'departure track', 'departure date', 'departure time', 'arrival location', 'arrival station', 'arrival track', 'class', 'duration', 'route', 'seat', 'train', 'type']\n",
      "['departure location', 'departure station', 'departure platform', 'departure track', 'departure date', 'departure time', 'arrival location', 'arrival station', 'arrival platform', 'arrival track', 'class', 'duration', 'price', 'route', 'row', 'seat', 'train', 'type', 'wagon', 'zone']\n"
     ]
    }
   ],
   "source": [
    "for i in possible:\n",
    "    print(possible[i])"
   ]
  },
  {
   "cell_type": "code",
   "execution_count": 67,
   "metadata": {},
   "outputs": [
    {
     "data": {
      "text/plain": [
       "20"
      ]
     },
     "execution_count": 67,
     "metadata": {},
     "output_type": "execute_result"
    }
   ],
   "source": [
    "len(possible)"
   ]
  },
  {
   "cell_type": "code",
   "execution_count": 60,
   "metadata": {},
   "outputs": [
    {
     "name": "stdout",
     "output_type": "stream",
     "text": [
      "[499, 362, 657, 143, 723, 763, 935, 454, 473, 586, 372, 489, 214, 753, 765, 65, 307, 56, 853, 934]\n",
      "[228, 664, 709, 361, 856, 645, 363, 171, 901, 199, 62, 513, 667, 808, 350, 890, 715, 687, 257, 721]\n",
      "[531, 490, 628, 88, 947, 252, 832, 917, 686, 571, 362, 874, 837, 588, 849, 140, 655, 407, 90, 611]\n",
      "[777, 194, 111, 386, 90, 598, 153, 363, 373, 566, 191, 945, 559, 819, 289, 487, 480, 590, 691, 756]\n",
      "[186, 366, 196, 844, 655, 659, 845, 109, 355, 330, 71, 176, 397, 380, 822, 776, 369, 447, 658, 949]\n",
      "[783, 763, 570, 184, 260, 448, 856, 717, 913, 646, 774, 657, 841, 917, 910, 193, 941, 408, 110, 577]\n",
      "[378, 832, 670, 59, 155, 911, 209, 74, 57, 947, 144, 514, 411, 89, 690, 856, 854, 286, 597, 132]\n",
      "[319, 684, 204, 909, 342, 206, 204, 943, 620, 52, 516, 115, 430, 319, 84, 618, 593, 211, 596, 581]\n",
      "[66, 146, 910, 225, 107, 112, 918, 679, 255, 757, 125, 946, 863, 892, 78, 525, 373, 913, 87, 838]\n",
      "[674, 653, 588, 220, 448, 941, 112, 924, 474, 358, 513, 649, 766, 500, 847, 197, 639, 836, 373, 573]\n",
      "[76, 115, 776, 726, 598, 361, 480, 772, 356, 129, 506, 380, 202, 810, 932, 756, 408, 81, 786, 889]\n",
      "[311, 620, 848, 357, 483, 754, 181, 300, 284, 60, 259, 674, 596, 289, 397, 113, 894, 82, 291, 754]\n",
      "[286, 664, 786, 775, 510, 363, 666, 229, 914, 938, 196, 509, 410, 528, 681, 943, 477, 850, 640, 595]\n",
      "[566, 195, 201, 949, 205, 517, 672, 762, 180, 886, 679, 63, 596, 664, 678, 596, 894, 384, 321, 212]\n",
      "[576, 316, 480, 579, 925, 328, 498, 194, 191, 132, 106, 863, 210, 416, 351, 663, 643, 218, 366, 942]\n",
      "[776, 60, 256, 400, 368, 664, 469, 53, 949, 689, 569, 253, 319, 717, 387, 591, 845, 66, 499, 566]\n",
      "[620, 831, 379, 712, 614, 176, 682, 666, 83, 197, 438, 916, 535, 504, 218, 377, 627, 155, 429, 855]\n",
      "[853, 525, 865, 487, 190, 940, 810, 251, 786, 618, 895, 580, 908, 86, 578, 136, 781, 562, 498, 759]\n",
      "[671, 625, 256, 592, 177, 500, 523, 50, 443, 692, 650, 128, 441, 832, 626, 491, 252, 405, 661, 756]\n",
      "[597, 722, 922, 721, 319, 388, 653, 484, 83, 142, 781, 451, 106, 499, 515, 672, 113, 374, 911, 311]\n",
      "[211, 716, 176, 715, 627, 286, 327, 531, 566, 587, 916, 431, 57, 371, 894, 677, 778, 193, 710, 447]\n",
      "[559, 508, 196, 178, 844, 78, 114, 662, 142, 558, 514, 378, 375, 694, 718, 314, 384, 89, 816, 562]\n",
      "[413, 592, 841, 498, 793, 214, 947, 582, 827, 940, 446, 572, 259, 623, 213, 355, 853, 360, 60, 195]\n",
      "[481, 764, 308, 384, 131, 247, 595, 756, 221, 361, 175, 256, 407, 255, 155, 752, 781, 524, 403, 640]\n",
      "[74, 765, 914, 319, 715, 86, 316, 612, 197, 640, 827, 760, 926, 106, 520, 818, 229, 824, 623, 404]\n",
      "[576, 504, 694, 379, 75, 528, 638, 257, 482, 852, 837, 563, 575, 389, 686, 217, 852, 684, 314, 184]\n",
      "[481, 679, 312, 796, 358, 71, 376, 830, 209, 946, 69, 591, 939, 357, 59, 284, 522, 626, 218, 825]\n",
      "[355, 812, 691, 377, 833, 938, 139, 233, 643, 764, 663, 692, 722, 576, 495, 843, 450, 536, 359, 174]\n",
      "[367, 749, 373, 379, 69, 753, 711, 81, 445, 265, 405, 624, 759, 814, 311, 623, 228, 290, 682, 195]\n",
      "[427, 198, 192, 666, 319, 369, 565, 861, 512, 216, 81, 899, 388, 761, 683, 933, 529, 515, 673, 674]\n",
      "[355, 188, 827, 614, 178, 600, 641, 181, 915, 728, 934, 526, 904, 136, 74, 649, 187, 77, 381, 498]\n",
      "[751, 317, 780, 190, 897, 781, 65, 852, 933, 69, 657, 811, 517, 564, 842, 877, 382, 84, 56, 576]\n",
      "[946, 839, 941, 322, 409, 318, 751, 850, 215, 750, 394, 578, 95, 284, 902, 396, 409, 51, 309, 938]\n",
      "[54, 400, 54, 307, 290, 665, 125, 507, 220, 600, 214, 405, 864, 217, 763, 284, 382, 820, 129, 910]\n",
      "[722, 68, 841, 521, 597, 286, 722, 481, 451, 145, 448, 389, 61, 844, 650, 487, 250, 781, 149, 70]\n",
      "[175, 323, 322, 831, 857, 137, 616, 686, 408, 175, 709, 903, 214, 917, 414, 108, 367, 827, 684, 593]\n",
      "[86, 926, 414, 213, 825, 682, 473, 67, 318, 144, 51, 311, 814, 709, 520, 687, 623, 396, 949, 387]\n",
      "[522, 369, 139, 593, 122, 210, 716, 906, 406, 488, 681, 753, 852, 189, 71, 203, 51, 145, 639, 412]\n",
      "[60, 582, 819, 529, 180, 140, 570, 402, 191, 594, 863, 146, 614, 631, 51, 593, 828, 583, 184, 78]\n",
      "[856, 622, 291, 412, 503, 532, 563, 217, 404, 352, 349, 406, 675, 277, 292, 765, 748, 493, 691, 626]\n",
      "[647, 849, 636, 64, 479, 715, 623, 132, 322, 408, 524, 385, 212, 328, 289, 104, 82, 689, 908, 650]\n",
      "[197, 444, 249, 763, 892, 86, 775, 441, 172, 664, 379, 596, 910, 584, 574, 376, 665, 899, 174, 847]\n",
      "[375, 906, 894, 75, 895, 82, 250, 367, 350, 581, 912, 927, 370, 888, 938, 413, 109, 909, 570, 481]\n",
      "[104, 831, 565, 413, 849, 533, 861, 394, 361, 511, 292, 573, 567, 218, 832, 135, 717, 851, 134, 223]\n",
      "[847, 59, 369, 147, 509, 80, 184, 527, 199, 430, 614, 687, 621, 823, 132, 787, 569, 109, 665, 112]\n",
      "[403, 640, 763, 704, 504, 381, 201, 933, 144, 597, 825, 79, 496, 246, 783, 113, 84, 650, 720, 81]\n",
      "[356, 82, 615, 375, 222, 361, 182, 255, 112, 845, 612, 298, 891, 887, 382, 839, 380, 691, 405, 660]\n",
      "[251, 535, 590, 228, 181, 710, 663, 485, 856, 929, 389, 892, 573, 247, 856, 313, 679, 397, 50, 850]\n",
      "[895, 673, 675, 513, 838, 181, 135, 696, 599, 327, 583, 720, 486, 104, 691, 777, 115, 536, 724, 920]\n",
      "[623, 484, 723, 936, 810, 940, 824, 676, 362, 172, 494, 864, 360, 133, 402, 911, 307, 634, 828, 428]\n",
      "[576, 710, 508, 63, 506, 888, 638, 476, 626, 616, 863, 494, 434, 898, 715, 759, 946, 208, 932, 84]\n",
      "[495, 255, 259, 810, 586, 387, 804, 69, 564, 73, 140, 628, 890, 205, 213, 363, 709, 683, 401, 78]\n",
      "[79, 582, 688, 536, 114, 106, 622, 289, 395, 417, 786, 384, 175, 55, 850, 855, 327, 189, 135, 254]\n",
      "[379, 895, 255, 498, 766, 523, 291, 782, 944, 839, 615, 687, 892, 824, 479, 77, 619, 359, 702, 680]\n",
      "[250, 144, 611, 936, 220, 851, 509, 379, 260, 821, 532, 859, 79, 673, 906, 624, 211, 780, 349, 448]\n",
      "[75, 643, 392, 826, 139, 579, 479, 618, 372, 563, 823, 913, 106, 286, 639, 594, 455, 895, 388, 776]\n",
      "[370, 785, 939, 918, 661, 841, 582, 655, 678, 109, 850, 673, 423, 864, 290, 677, 762, 834, 383, 686]\n",
      "[114, 684, 251, 944, 56, 944, 228, 217, 666, 778, 650, 605, 488, 284, 643, 516, 754, 561, 659, 938]\n",
      "[292, 429, 906, 605, 935, 88, 140, 197, 721, 438, 257, 590, 324, 900, 325, 785, 290, 522, 491, 619]\n",
      "[249, 52, 649, 558, 605, 914, 494, 286, 373, 132, 892, 766, 709, 355, 655, 321, 218, 473, 906, 562]\n",
      "[612, 908, 180, 854, 475, 825, 61, 516, 363, 945, 896, 176, 563, 763, 361, 221, 847, 205, 631, 112]\n",
      "[936, 57, 379, 279, 534, 211, 889, 254, 198, 381, 645, 764, 318, 377, 619, 850, 78, 750, 181, 83]\n",
      "[918, 172, 942, 948, 821, 911, 291, 906, 393, 438, 757, 702, 215, 383, 178, 219, 350, 894, 757, 403]\n",
      "[526, 913, 180, 376, 653, 617, 837, 935, 896, 373, 343, 184, 257, 660, 784, 406, 901, 904, 377, 689]\n",
      "[189, 388, 628, 55, 723, 82, 51, 369, 808, 365, 137, 668, 664, 596, 325, 672, 360, 316, 797, 939]\n",
      "[685, 531, 67, 314, 673, 136, 325, 283, 659, 374, 403, 60, 914, 492, 478, 648, 190, 320, 592, 692]\n",
      "[855, 205, 111, 600, 562, 785, 489, 226, 209, 941, 518, 384, 700, 579, 315, 657, 74, 654, 591, 558]\n",
      "[444, 360, 672, 367, 819, 108, 757, 136, 621, 838, 323, 785, 478, 809, 492, 376, 161, 508, 901, 586]\n",
      "[141, 366, 489, 481, 716, 350, 589, 63, 655, 558, 451, 143, 289, 594, 866, 933, 711, 63, 213, 380]\n",
      "[320, 144, 949, 726, 314, 576, 639, 80, 287, 143, 616, 713, 945, 623, 228, 927, 374, 385, 856, 499]\n",
      "[215, 135, 351, 409, 69, 619, 658, 639, 567, 716, 227, 888, 768, 66, 115, 320, 77, 718, 748, 369]\n",
      "[614, 894, 572, 515, 842, 371, 253, 570, 479, 574, 292, 394, 463, 659, 840, 227, 763, 757, 777, 83]\n",
      "[401, 887, 116, 854, 751, 683, 137, 898, 104, 649, 596, 779, 935, 65, 570, 220, 147, 850, 781, 379]\n",
      "[353, 808, 187, 909, 895, 710, 192, 903, 784, 779, 755, 788, 896, 292, 719, 428, 843, 681, 407, 313]\n",
      "[83, 722, 826, 829, 392, 616, 655, 484, 520, 720, 53, 243, 145, 360, 63, 594, 512, 443, 850, 200]\n",
      "[588, 889, 187, 889, 581, 215, 290, 319, 821, 440, 601, 220, 482, 307, 217, 690, 758, 512, 942, 372]\n",
      "[722, 183, 134, 843, 807, 783, 509, 657, 411, 859, 561, 401, 763, 719, 756, 380, 756, 375, 443, 207]\n",
      "[527, 780, 526, 323, 449, 218, 721, 714, 84, 200, 806, 717, 619, 587, 821, 399, 570, 518, 778, 893]\n",
      "[836, 309, 893, 780, 943, 779, 657, 256, 528, 296, 512, 476, 131, 641, 828, 223, 807, 683, 562, 313]\n",
      "[855, 192, 440, 557, 427, 710, 776, 755, 653, 920, 191, 763, 631, 664, 897, 580, 845, 916, 659, 66]\n",
      "[627, 500, 725, 255, 136, 370, 403, 58, 77, 838, 674, 620, 858, 307, 438, 189, 392, 674, 568, 446]\n",
      "[855, 619, 843, 711, 577, 427, 392, 661, 485, 257, 293, 504, 315, 450, 190, 389, 581, 197, 823, 711]\n",
      "[617, 816, 838, 636, 257, 58, 935, 668, 501, 386, 226, 838, 919, 660, 755, 643, 438, 216, 526, 753]\n",
      "[685, 288, 86, 781, 908, 140, 310, 144, 258, 52, 132, 560, 803, 622, 591, 134, 218, 248, 566, 518]\n",
      "[567, 532, 719, 399, 50, 616, 922, 914, 310, 612, 353, 653, 400, 384, 562, 684, 492, 568, 135, 689]\n",
      "[170, 749, 486, 901, 108, 825, 887, 210, 519, 226, 762, 188, 590, 903, 452, 617, 615, 834, 363, 517]\n",
      "[308, 497, 496, 400, 530, 512, 939, 647, 514, 359, 435, 625, 186, 580, 66, 206, 718, 491, 657, 50]\n",
      "[558, 698, 326, 195, 809, 89, 135, 378, 518, 846, 692, 204, 716, 573, 176, 369, 583, 752, 227, 651]\n",
      "[311, 653, 224, 823, 442, 220, 902, 603, 367, 54, 945, 195, 897, 67, 60, 360, 814, 450, 246, 665]\n",
      "[358, 579, 849, 813, 315, 308, 825, 681, 827, 114, 857, 352, 481, 440, 212, 944, 836, 312, 501, 439]\n",
      "[213, 780, 407, 912, 573, 535, 585, 825, 897, 842, 588, 469, 893, 321, 567, 831, 90, 138, 613, 863]\n",
      "[853, 119, 581, 373, 84, 761, 217, 640, 752, 383, 226, 650, 357, 322, 438, 503, 292, 559, 291, 492]\n",
      "[684, 874, 935, 786, 89, 852, 940, 397, 643, 51, 722, 647, 79, 50, 817, 86, 585, 822, 611, 575]\n",
      "[777, 890, 911, 915, 114, 452, 635, 204, 79, 289, 310, 449, 628, 247, 358, 948, 894, 307, 350, 893]\n",
      "[724, 685, 936, 485, 887, 82, 835, 870, 481, 615, 616, 751, 131, 505, 111, 82, 912, 438, 50, 405]\n",
      "[520, 826, 224, 592, 411, 284, 834, 668, 902, 657, 661, 897, 758, 369, 933, 809, 704, 501, 222, 777]\n",
      "[624, 628, 105, 260, 663, 502, 447, 436, 310, 851, 836, 208, 911, 591, 718, 755, 844, 647, 854, 497]\n",
      "[754, 649, 519, 319, 315, 807, 640, 749, 668, 404, 594, 514, 175, 587, 637, 582, 188, 90, 219, 427]\n",
      "[906, 146, 274, 173, 229, 562, 480, 518, 897, 821, 53, 913, 319, 63, 189, 571, 485, 613, 509, 353]\n",
      "[502, 646, 58, 352, 505, 660, 575, 133, 671, 811, 586, 350, 850, 802, 474, 360, 911, 136, 564, 753]\n",
      "[132, 473, 368, 718, 80, 754, 751, 947, 903, 772, 284, 256, 650, 258, 251, 682, 197, 619, 758, 501]\n",
      "[77, 892, 401, 675, 270, 935, 183, 658, 578, 497, 373, 209, 807, 187, 209, 85, 205, 251, 367, 57]\n",
      "[750, 209, 834, 811, 665, 898, 361, 64, 114, 685, 258, 943, 644, 532, 129, 614, 924, 76, 377, 405]\n",
      "[219, 225, 818, 84, 639, 380, 856, 676, 372, 82, 76, 577, 517, 758, 942, 182, 604, 194, 400, 357]\n",
      "[908, 622, 568, 81, 183, 901, 868, 354, 818, 835, 894, 430, 482, 824, 856, 839, 190, 77, 88, 840]\n",
      "[641, 572, 228, 286, 936, 889, 818, 777, 778, 846, 643, 113, 150, 138, 754, 934, 582, 581, 627, 685]\n",
      "[622, 413, 899, 828, 185, 194, 173, 571, 481, 670, 315, 515, 562, 207, 836, 708, 766, 683, 488, 372]\n",
      "[248, 457, 934, 372, 564, 414, 662, 665, 949, 642, 202, 144, 189, 842, 214, 592, 374, 888, 211, 247]\n",
      "[289, 407, 60, 434, 323, 561, 196, 319, 517, 846, 686, 855, 173, 864, 611, 814, 717, 618, 313, 687]\n",
      "[474, 892, 536, 259, 888, 86, 81, 328, 687, 402, 375, 891, 291, 666, 805, 909, 386, 193, 511, 898]\n",
      "[131, 210, 638, 840, 392, 765, 565, 841, 394, 781, 813, 562, 316, 145, 526, 528, 826, 803, 87, 197]\n",
      "[841, 557, 935, 116, 837, 478, 174, 839, 623, 752, 71, 484, 709, 685, 495, 360, 327, 143, 440, 908]\n",
      "[452, 86, 411, 358, 847, 632, 853, 716, 410, 491, 934, 86, 196, 598, 600, 486, 402, 212, 493, 714]\n",
      "[766, 663, 131, 474, 888, 85, 569, 710, 251, 225, 846, 194, 692, 925, 398, 783, 226, 291, 189, 488]\n",
      "[657, 560, 388, 477, 509, 87, 139, 911, 258, 671, 947, 753, 865, 913, 324, 638, 366, 526, 584, 429]\n",
      "[658, 181, 83, 611, 259, 561, 752, 121, 758, 561, 612, 478, 518, 763, 896, 596, 68, 328, 173, 446]\n",
      "[625, 810, 62, 508, 458, 355, 847, 896, 220, 838, 933, 536, 376, 112, 427, 190, 511, 403, 479, 675]\n",
      "[367, 495, 523, 441, 694, 656, 286, 309, 203, 839, 481, 848, 646, 830, 383, 221, 848, 185, 615, 208]\n",
      "[759, 848, 112, 516, 668, 189, 217, 617, 598, 117, 831, 251, 906, 905, 560, 86, 573, 938, 63, 908]\n",
      "[809, 259, 908, 290, 905, 316, 761, 593, 846, 408, 509, 780, 516, 447, 311, 201, 773, 217, 948, 932]\n",
      "[533, 130, 571, 599, 621, 141, 612, 786, 838, 402, 662, 186, 297, 820, 759, 381, 208, 592, 576, 318]\n",
      "[401, 416, 920, 309, 583, 665, 570, 369, 199, 54, 455, 185, 513, 80, 527, 912, 442, 783, 615, 85]\n",
      "[135, 187, 428, 506, 662, 209, 850, 905, 184, 855, 935, 584, 606, 944, 819, 371, 825, 720, 598, 912]\n",
      "[622, 620, 408, 224, 530, 792, 894, 855, 372, 667, 653, 820, 514, 180, 479, 685, 190, 196, 107, 560]\n",
      "[205, 848, 375, 252, 628, 479, 670, 147, 413, 156, 759, 949, 489, 719, 681, 493, 70, 508, 807, 835]\n",
      "[776, 676, 62, 512, 658, 477, 215, 748, 911, 186, 500, 557, 213, 862, 905, 373, 677, 250, 410, 250]\n",
      "[58, 88, 684, 855, 626, 498, 574, 631, 503, 749, 75, 59, 641, 207, 440, 404, 139, 887, 751, 363]\n",
      "[113, 186, 66, 204, 104, 726, 115, 137, 617, 832, 90, 755, 664, 517, 452, 635, 594, 749, 892, 363]\n",
      "[356, 863, 658, 575, 896, 903, 373, 645, 192, 907, 277, 816, 844, 532, 519, 520, 402, 390, 623, 507]\n",
      "[308, 267, 503, 448, 842, 228, 55, 371, 63, 724, 590, 894, 566, 621, 477, 448, 566, 752, 530, 675]\n",
      "[569, 327, 379, 64, 84, 51, 273, 863, 721, 501, 592, 688, 406, 814, 498, 292, 505, 487, 901, 398]\n",
      "[830, 855, 66, 534, 710, 441, 623, 816, 324, 368, 318, 450, 232, 407, 619, 639, 50, 530, 413, 428]\n",
      "[720, 405, 915, 676, 80, 623, 757, 141, 901, 847, 493, 485, 123, 379, 444, 349, 832, 711, 77, 73]\n",
      "[528, 50, 913, 528, 50, 61, 354, 489, 838, 600, 193, 387, 382, 621, 191, 822, 119, 82, 211, 836]\n",
      "[318, 583, 260, 677, 873, 822, 364, 255, 624, 624, 147, 721, 63, 218, 215, 567, 136, 493, 87, 511]\n",
      "[58, 446, 210, 582, 133, 814, 719, 476, 412, 863, 492, 901, 580, 845, 87, 179, 629, 177, 915, 322]\n",
      "[112, 712, 386, 667, 624, 369, 650, 317, 177, 230, 532, 56, 360, 482, 479, 818, 893, 835, 258, 495]\n",
      "[51, 492, 763, 777, 287, 508, 827, 138, 620, 635, 915, 311, 808, 510, 82, 360, 564, 251, 446, 138]\n",
      "[79, 352, 414, 777, 786, 384, 671, 346, 600, 591, 829, 316, 374, 939, 229, 199, 216, 219, 109, 210]\n",
      "[508, 154, 508, 677, 510, 212, 529, 903, 758, 410, 199, 131, 88, 476, 481, 508, 825, 393, 784, 287]\n",
      "[55, 652, 686, 521, 620, 388, 785, 907, 535, 683, 631, 363, 186, 487, 289, 406, 481, 572, 360, 574]\n",
      "[111, 356, 638, 172, 491, 684, 110, 846, 384, 433, 679, 647, 289, 846, 916, 946, 352, 196, 786, 479]\n",
      "[567, 224, 907, 310, 488, 763, 195, 139, 595, 512, 687, 680, 493, 401, 130, 749, 273, 353, 498, 679]\n",
      "[328, 196, 856, 288, 623, 257, 525, 285, 679, 512, 564, 170, 723, 534, 916, 179, 67, 651, 557, 834]\n",
      "[450, 484, 381, 441, 774, 570, 664, 815, 147, 319, 173, 316, 137, 532, 327, 657, 749, 510, 200, 199]\n",
      "[902, 650, 327, 258, 647, 667, 250, 77, 579, 598, 723, 473, 510, 364, 923, 369, 493, 357, 318, 359]\n",
      "[365, 756, 249, 585, 913, 613, 821, 353, 646, 851, 411, 54, 710, 153, 289, 199, 617, 200, 383, 528]\n",
      "[824, 257, 831, 938, 481, 841, 576, 179, 321, 938, 919, 81, 479, 766, 705, 257, 513, 112, 353, 200]\n",
      "[260, 587, 57, 671, 366, 248, 175, 727, 814, 596, 309, 664, 757, 781, 940, 62, 187, 809, 642, 816]\n",
      "[406, 205, 569, 108, 817, 414, 366, 474, 86, 311, 901, 682, 589, 256, 283, 814, 393, 596, 856, 321]\n",
      "[920, 613, 190, 616, 616, 614, 897, 384, 213, 222, 158, 359, 80, 837, 140, 709, 854, 356, 838, 820]\n",
      "[496, 508, 512, 509, 675, 180, 89, 182, 838, 208, 392, 771, 177, 934, 88, 513, 61, 943, 903, 666]\n",
      "[311, 509, 478, 439, 890, 692, 682, 361, 914, 802, 720, 600, 675, 576, 664, 224, 522, 252, 898, 650]\n",
      "[384, 587, 250, 396, 715, 840, 595, 679, 900, 135, 141, 438, 844, 122, 310, 566, 850, 291, 205, 676]\n",
      "[414, 810, 370, 856, 785, 628, 172, 781, 88, 450, 675, 339, 308, 210, 832, 660, 595, 77, 475, 438]\n",
      "[620, 327, 676, 194, 664, 51, 140, 368, 782, 528, 111, 280, 145, 73, 582, 486, 821, 530, 372, 764]\n",
      "[370, 364, 79, 252, 718, 204, 370, 835, 825, 904, 698, 312, 137, 586, 387, 360, 713, 229, 725, 318]\n",
      "[192, 776, 258, 495, 644, 836, 759, 139, 147, 702, 658, 779, 615, 816, 478, 812, 657, 712, 362, 839]\n",
      "[386, 530, 409, 863, 110, 290, 938, 75, 406, 457, 190, 513, 368, 133, 203, 753, 514, 825, 644, 687]\n",
      "[615, 862, 808, 721, 579, 671, 807, 228, 848, 307, 760, 74, 451, 509, 484, 403, 216, 710, 892, 667]\n",
      "[494, 763, 935, 569, 778, 396, 362, 723, 113, 495, 897, 486, 735, 495, 288, 715, 937, 590, 575, 687]\n",
      "[478, 108, 831, 687, 817, 753, 687, 528, 321, 201, 574, 572, 444, 897, 489, 568, 876, 512, 508, 288]\n",
      "[829, 312, 350, 843, 478, 252, 584, 361, 625, 307, 929, 570, 514, 72, 219, 825, 686, 570, 655, 667]\n",
      "[172, 910, 658, 834, 657, 182, 941, 182, 246, 907, 373, 147, 271, 183, 77, 785, 429, 320, 847, 726]\n",
      "[748, 916, 783, 872, 646, 676, 596, 691, 316, 373, 512, 915, 512, 724, 831, 723, 842, 324, 908, 899]\n",
      "[795, 638, 507, 766, 947, 400, 474, 505, 864, 612, 653, 212, 529, 378, 255, 911, 358, 83, 51, 491]\n",
      "[765, 827, 584, 196, 941, 390, 402, 713, 901, 82, 659, 623, 345, 177, 309, 191, 198, 223, 863, 937]\n",
      "[517, 635, 510, 64, 415, 765, 901, 365, 723, 574, 623, 850, 191, 917, 943, 643, 413, 523, 757, 830]\n",
      "[218, 854, 225, 812, 523, 170, 593, 357, 761, 291, 621, 914, 584, 60, 64, 198, 65, 501, 848, 939]\n",
      "[83, 683, 222, 750, 135, 847, 864, 325, 80, 668, 717, 630, 757, 427, 137, 430, 176, 777, 809, 670]\n",
      "[285, 570, 846, 471, 759, 572, 627, 721, 753, 68, 414, 920, 521, 677, 517, 713, 901, 475, 569, 67]\n",
      "[135, 319, 70, 328, 495, 618, 78, 479, 414, 782, 107, 64, 489, 378, 227, 444, 861, 314, 441, 179]\n",
      "[54, 509, 310, 204, 580, 484, 889, 371, 935, 619, 520, 188, 622, 653, 491, 229, 66, 926, 828, 688]\n",
      "[560, 311, 146, 911, 907, 864, 696, 386, 328, 776, 393, 387, 947, 364, 212, 688, 677, 446, 361, 64]\n",
      "[79, 259, 476, 926, 67, 375, 59, 397, 750, 909, 652, 947, 568, 786, 208, 107, 200, 830, 527, 173]\n",
      "[88, 836, 587, 134, 901, 176, 896, 287, 68, 574, 903, 562, 82, 877, 75, 651, 561, 813, 569, 209]\n",
      "[480, 566, 575, 639, 198, 80, 935, 142, 446, 948, 784, 360, 716, 835, 318, 171, 536, 112, 843, 835]\n",
      "[519, 711, 796, 581, 590, 382, 317, 514, 389, 488, 410, 663, 840, 578, 450, 906, 947, 841, 507, 663]\n",
      "[87, 569, 890, 497, 368, 361, 58, 413, 145, 592, 144, 221, 292, 445, 72, 941, 791, 60, 218, 814]\n",
      "[389, 810, 597, 156, 190, 186, 507, 725, 638, 349, 86, 405, 644, 947, 254, 201, 391, 573, 758, 826]\n",
      "[500, 829, 643, 858, 193, 191, 485, 584, 370, 940, 841, 820, 832, 327, 565, 389, 816, 677, 819, 485]\n",
      "[81, 499, 388, 812, 201, 848, 823, 288, 715, 650, 868, 307, 322, 53, 780, 360, 650, 491, 711, 896]\n",
      "[816, 443, 408, 197, 316, 936, 487, 792, 350, 492, 287, 717, 350, 201, 444, 111, 579, 73, 409, 289]\n",
      "[509, 369, 890, 671, 529, 444, 428, 783, 170, 139, 889, 649, 905, 511, 508, 410, 380, 399, 203, 310]\n",
      "[808, 711, 711, 500, 512, 227, 85, 810, 940, 604, 786, 74, 667, 684, 400, 174, 480, 224, 522, 88]\n",
      "[105, 897, 172, 780, 432, 722, 287, 529, 824, 524, 52, 250, 136, 219, 223, 249, 384, 938, 559, 856]\n",
      "[827, 618, 152, 625, 143, 933, 529, 254, 400, 257, 780, 144, 182, 599, 576, 376, 113, 199, 353, 624]\n",
      "[515, 253, 651, 450, 659, 382, 814, 254, 522, 535, 906, 180, 350, 358, 725, 441, 135, 591, 921, 54]\n",
      "[211, 363, 501, 189, 635, 891, 131, 623, 493, 109, 854, 572, 190, 246, 206, 562, 808, 365, 889, 250]\n",
      "[63, 792, 659, 400, 946, 835, 724, 641, 566, 180, 824, 892, 199, 528, 175, 563, 687, 571, 314, 557]\n"
     ]
    }
   ],
   "source": [
    "for i in validtickets:\n",
    "    print(i)"
   ]
  },
  {
   "cell_type": "code",
   "execution_count": null,
   "metadata": {},
   "outputs": [],
   "source": []
  }
 ],
 "metadata": {
  "kernelspec": {
   "display_name": "Python 3",
   "language": "python",
   "name": "python3"
  },
  "language_info": {
   "codemirror_mode": {
    "name": "ipython",
    "version": 3
   },
   "file_extension": ".py",
   "mimetype": "text/x-python",
   "name": "python",
   "nbconvert_exporter": "python",
   "pygments_lexer": "ipython3",
   "version": "3.9.0"
  }
 },
 "nbformat": 4,
 "nbformat_minor": 4
}
