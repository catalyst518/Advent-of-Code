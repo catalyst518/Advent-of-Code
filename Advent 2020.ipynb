{
 "cells": [
  {
   "cell_type": "code",
   "execution_count": 19,
   "metadata": {},
   "outputs": [
    {
     "name": "stdout",
     "output_type": "stream",
     "text": [
      "55776\n",
      "223162626\n"
     ]
    }
   ],
   "source": [
    "#day 1\n",
    "def loop():\n",
    "    for i in data:\n",
    "        for j in data:\n",
    "            if i+j==2020:\n",
    "                print(i*j)\n",
    "                return\n",
    "def loop3():\n",
    "    for i in data:\n",
    "        for j in data:\n",
    "            for k in data:\n",
    "                if i+j+k==2020:\n",
    "                    print(i*j*k)\n",
    "                    return\n",
    "with open(\"input1.txt\") as input:\n",
    "    data=[int(i) for i in input]\n",
    "loop()#part 1\n",
    "loop3()#part 2"
   ]
  },
  {
   "cell_type": "code",
   "execution_count": 22,
   "metadata": {},
   "outputs": [
    {
     "name": "stdout",
     "output_type": "stream",
     "text": [
      "434\n"
     ]
    }
   ],
   "source": [
    "#day 2, part 1\n",
    "count=0\n",
    "with open(\"input2.txt\") as input:\n",
    "    for line in input:\n",
    "        limit,letter=line.split(':')[0].split()\n",
    "        low,high=map(int,limit.split('-'))\n",
    "        password=line.split(':')[1].strip()\n",
    "        if low<=password.count(letter)<=high:\n",
    "            count+=1\n",
    "print(count)"
   ]
  },
  {
   "cell_type": "code",
   "execution_count": 23,
   "metadata": {},
   "outputs": [
    {
     "name": "stdout",
     "output_type": "stream",
     "text": [
      "509\n"
     ]
    }
   ],
   "source": [
    "#day 2, part 2\n",
    "count=0\n",
    "with open(\"input2.txt\") as input:\n",
    "    for line in input:\n",
    "        limit,letter=line.split(':')[0].split()\n",
    "        low,high=map(int,limit.split('-'))\n",
    "        password=line.split(':')[1].strip()\n",
    "        if password[low-1]==letter and password[high-1]!=letter:\n",
    "            count+=1\n",
    "        elif password[low-1]!=letter and password[high-1]==letter:\n",
    "            count+=1\n",
    "print(count)"
   ]
  },
  {
   "cell_type": "code",
   "execution_count": 89,
   "metadata": {},
   "outputs": [
    {
     "name": "stdout",
     "output_type": "stream",
     "text": [
      "part 1: 223\n",
      "part 2: 3517401300\n"
     ]
    }
   ],
   "source": [
    "#day 3\n",
    "with open (\"input3.txt\") as input:\n",
    "    terrain=[line.strip() for line in input]\n",
    "def slope(right,down):\n",
    "    xlen=len(terrain[0])\n",
    "    ylen=len(terrain)\n",
    "    count=0\n",
    "    x=0\n",
    "    for y in range(down,ylen,down):\n",
    "        if x+right>=xlen:\n",
    "            x=x-xlen+right\n",
    "        else:\n",
    "            x+=right\n",
    "        if terrain[y][x]=='#':\n",
    "            count+=1\n",
    "    return count\n",
    "print(\"part 1:\",slope(3,1))\n",
    "print(\"part 2:\",slope(1,1)*slope(3,1)*slope(5,1)*slope(7,1)*slope(1,2))"
   ]
  },
  {
   "cell_type": "code",
   "execution_count": 55,
   "metadata": {},
   "outputs": [
    {
     "name": "stdout",
     "output_type": "stream",
     "text": [
      "242\n"
     ]
    }
   ],
   "source": [
    "#day 4, part 1\n",
    "def validate(data):\n",
    "    requirements=['byr','iyr','eyr','hgt','hcl','ecl','pid']\n",
    "    for i in requirements:\n",
    "        if i not in data:\n",
    "            return 0\n",
    "    return 1\n",
    "\n",
    "with open (\"input4.txt\") as input:\n",
    "    data=[]\n",
    "    valid=0\n",
    "    for line in input:\n",
    "        if line.strip():\n",
    "            for info in line.strip().split():\n",
    "                data.append(info.split(':')[0])\n",
    "        else:\n",
    "            #end of passport\n",
    "            valid+=validate(data)\n",
    "            data=[]\n",
    "    valid+=validate(data)\n",
    "print(valid)"
   ]
  },
  {
   "cell_type": "code",
   "execution_count": 56,
   "metadata": {},
   "outputs": [
    {
     "name": "stdout",
     "output_type": "stream",
     "text": [
      "186\n"
     ]
    }
   ],
   "source": [
    "#day 4, part 2\n",
    "def validate(data):\n",
    "    if None in data.values():\n",
    "        return 0\n",
    "    if not 1920<=int(data['byr'])<=2002 or len(data['byr'])!=4:\n",
    "        return 0\n",
    "    if not 2010<=int(data['iyr'])<=2020 or len(data['byr'])!=4:\n",
    "        return 0\n",
    "    if not 2020<=int(data['eyr'])<=2030 or len(data['byr'])!=4:\n",
    "        return 0\n",
    "    if data['ecl'] not in 'amb blu brn gry grn hzl oth'.split():\n",
    "        return 0\n",
    "    if len(data['pid'])!=9:\n",
    "        return 0\n",
    "    for i in data['pid']:\n",
    "        try:\n",
    "            int(i)\n",
    "        except:\n",
    "            return 0\n",
    "    if data['hcl'][0]!='#':\n",
    "        return 0\n",
    "    for i in data['hcl'][1:]:\n",
    "        if str(i) not in '0123456789abcdef':\n",
    "            return 0\n",
    "    if data['hgt'][-2:]=='cm':\n",
    "        if not 150<=int(data['hgt'][:-2])<=193:\n",
    "            return 0\n",
    "    elif data['hgt'][-2:]=='in':\n",
    "        if not 56<=int(data['hgt'][:-2])<=76:\n",
    "            return 0\n",
    "    else:\n",
    "        return 0\n",
    "    return 1\n",
    "\n",
    "with open (\"input4.txt\") as input:\n",
    "    requirements={'byr','iyr','eyr','hgt','hcl','ecl','pid'}\n",
    "    data=dict.fromkeys(requirements,None)\n",
    "    valid=0\n",
    "    for line in input:\n",
    "        if line.strip():\n",
    "            for info in line.strip().split():\n",
    "                data[info.split(':')[0]]=info.split(':')[1]\n",
    "        else:\n",
    "            #end of passport\n",
    "            valid+=validate(data)\n",
    "            data=dict.fromkeys(requirements,None)\n",
    "    valid+=validate(data)\n",
    "print(valid)"
   ]
  },
  {
   "cell_type": "code",
   "execution_count": null,
   "metadata": {},
   "outputs": [],
   "source": []
  }
 ],
 "metadata": {
  "kernelspec": {
   "display_name": "Python 3",
   "language": "python",
   "name": "python3"
  },
  "language_info": {
   "codemirror_mode": {
    "name": "ipython",
    "version": 3
   },
   "file_extension": ".py",
   "mimetype": "text/x-python",
   "name": "python",
   "nbconvert_exporter": "python",
   "pygments_lexer": "ipython3",
   "version": "3.7.1"
  }
 },
 "nbformat": 4,
 "nbformat_minor": 4
}
