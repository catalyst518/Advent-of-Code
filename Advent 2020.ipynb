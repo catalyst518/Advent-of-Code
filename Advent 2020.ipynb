{
 "cells": [
  {
   "cell_type": "code",
   "execution_count": 19,
   "metadata": {},
   "outputs": [
    {
     "name": "stdout",
     "output_type": "stream",
     "text": [
      "55776\n",
      "223162626\n"
     ]
    }
   ],
   "source": [
    "#day 1\n",
    "def loop():\n",
    "    for i in data:\n",
    "        for j in data:\n",
    "            if i+j==2020:\n",
    "                print(i*j)\n",
    "                return\n",
    "def loop3():\n",
    "    for i in data:\n",
    "        for j in data:\n",
    "            for k in data:\n",
    "                if i+j+k==2020:\n",
    "                    print(i*j*k)\n",
    "                    return\n",
    "with open(\"input1.txt\") as input:\n",
    "    data=[int(i) for i in input]\n",
    "loop()#part 1\n",
    "loop3()#part 2"
   ]
  },
  {
   "cell_type": "code",
   "execution_count": 22,
   "metadata": {},
   "outputs": [
    {
     "name": "stdout",
     "output_type": "stream",
     "text": [
      "434\n"
     ]
    }
   ],
   "source": [
    "#day 2, part 1\n",
    "count=0\n",
    "with open(\"input2.txt\") as input:\n",
    "    for line in input:\n",
    "        limit,letter=line.split(':')[0].split()\n",
    "        low,high=map(int,limit.split('-'))\n",
    "        password=line.split(':')[1].strip()\n",
    "        if low<=password.count(letter)<=high:\n",
    "            count+=1\n",
    "print(count)"
   ]
  },
  {
   "cell_type": "code",
   "execution_count": 23,
   "metadata": {},
   "outputs": [
    {
     "name": "stdout",
     "output_type": "stream",
     "text": [
      "509\n"
     ]
    }
   ],
   "source": [
    "#day 2, part 2\n",
    "count=0\n",
    "with open(\"input2.txt\") as input:\n",
    "    for line in input:\n",
    "        limit,letter=line.split(':')[0].split()\n",
    "        low,high=map(int,limit.split('-'))\n",
    "        password=line.split(':')[1].strip()\n",
    "        if password[low-1]==letter and password[high-1]!=letter:\n",
    "            count+=1\n",
    "        elif password[low-1]!=letter and password[high-1]==letter:\n",
    "            count+=1\n",
    "print(count)"
   ]
  },
  {
   "cell_type": "code",
   "execution_count": 89,
   "metadata": {},
   "outputs": [
    {
     "name": "stdout",
     "output_type": "stream",
     "text": [
      "part 1: 223\n",
      "part 2: 3517401300\n"
     ]
    }
   ],
   "source": [
    "#day 3\n",
    "with open (\"input3.txt\") as input:\n",
    "    terrain=[line.strip() for line in input]\n",
    "def slope(right,down):\n",
    "    xlen=len(terrain[0])\n",
    "    ylen=len(terrain)\n",
    "    count=0\n",
    "    x=0\n",
    "    for y in range(down,ylen,down):\n",
    "        if x+right>=xlen:\n",
    "            x=x-xlen+right\n",
    "        else:\n",
    "            x+=right\n",
    "        if terrain[y][x]=='#':\n",
    "            count+=1\n",
    "    return count\n",
    "print(\"part 1:\",slope(3,1))\n",
    "print(\"part 2:\",slope(1,1)*slope(3,1)*slope(5,1)*slope(7,1)*slope(1,2))"
   ]
  },
  {
   "cell_type": "code",
   "execution_count": 55,
   "metadata": {},
   "outputs": [
    {
     "name": "stdout",
     "output_type": "stream",
     "text": [
      "242\n"
     ]
    }
   ],
   "source": [
    "#day 4, part 1\n",
    "def validate(data):\n",
    "    requirements=['byr','iyr','eyr','hgt','hcl','ecl','pid']\n",
    "    for i in requirements:\n",
    "        if i not in data:\n",
    "            return 0\n",
    "    return 1\n",
    "\n",
    "with open (\"input4.txt\") as input:\n",
    "    data=[]\n",
    "    valid=0\n",
    "    for line in input:\n",
    "        if line.strip():\n",
    "            for info in line.strip().split():\n",
    "                data.append(info.split(':')[0])\n",
    "        else:\n",
    "            #end of passport\n",
    "            valid+=validate(data)\n",
    "            data=[]\n",
    "    valid+=validate(data)\n",
    "print(valid)"
   ]
  },
  {
   "cell_type": "code",
   "execution_count": 56,
   "metadata": {},
   "outputs": [
    {
     "name": "stdout",
     "output_type": "stream",
     "text": [
      "186\n"
     ]
    }
   ],
   "source": [
    "#day 4, part 2\n",
    "def validate(data):\n",
    "    if None in data.values():\n",
    "        return 0\n",
    "    if not 1920<=int(data['byr'])<=2002 or len(data['byr'])!=4:\n",
    "        return 0\n",
    "    if not 2010<=int(data['iyr'])<=2020 or len(data['byr'])!=4:\n",
    "        return 0\n",
    "    if not 2020<=int(data['eyr'])<=2030 or len(data['byr'])!=4:\n",
    "        return 0\n",
    "    if data['ecl'] not in 'amb blu brn gry grn hzl oth'.split():\n",
    "        return 0\n",
    "    if len(data['pid'])!=9:\n",
    "        return 0\n",
    "    for i in data['pid']:\n",
    "        try:\n",
    "            int(i)\n",
    "        except:\n",
    "            return 0\n",
    "    if data['hcl'][0]!='#':\n",
    "        return 0\n",
    "    for i in data['hcl'][1:]:\n",
    "        if str(i) not in '0123456789abcdef':\n",
    "            return 0\n",
    "    if data['hgt'][-2:]=='cm':\n",
    "        if not 150<=int(data['hgt'][:-2])<=193:\n",
    "            return 0\n",
    "    elif data['hgt'][-2:]=='in':\n",
    "        if not 56<=int(data['hgt'][:-2])<=76:\n",
    "            return 0\n",
    "    else:\n",
    "        return 0\n",
    "    return 1\n",
    "\n",
    "with open (\"input4.txt\") as input:\n",
    "    requirements={'byr','iyr','eyr','hgt','hcl','ecl','pid'}\n",
    "    data=dict.fromkeys(requirements,None)\n",
    "    valid=0\n",
    "    for line in input:\n",
    "        if line.strip():\n",
    "            for info in line.strip().split():\n",
    "                data[info.split(':')[0]]=info.split(':')[1]\n",
    "        else:\n",
    "            #end of passport\n",
    "            valid+=validate(data)\n",
    "            data=dict.fromkeys(requirements,None)\n",
    "    valid+=validate(data)\n",
    "print(valid)"
   ]
  },
  {
   "cell_type": "code",
   "execution_count": 1,
   "metadata": {},
   "outputs": [
    {
     "name": "stdout",
     "output_type": "stream",
     "text": [
      "part 1: 855\n",
      "part 2: 552\n"
     ]
    }
   ],
   "source": [
    "#day 5\n",
    "seats=[]\n",
    "with open (\"input5.txt\") as input:\n",
    "    for line in input:\n",
    "        row=[*range(128)]\n",
    "        col=[*range(8)]\n",
    "        for i in line[:7]:\n",
    "            if i=='F':\n",
    "                row=row[:len(row)//2]\n",
    "            else:\n",
    "                row=row[len(row)//2:]\n",
    "        for i in line.strip()[7:]:\n",
    "            if i=='L':\n",
    "                col=col[:len(col)//2]\n",
    "            else:\n",
    "                col=col[len(col)//2:]\n",
    "        seats.append(row[0]*8+col[0])\n",
    "print(\"part 1:\",max(seats))\n",
    "for i in range(min(seats)+1,max(seats)):\n",
    "    if i not in seats and i+1 in seats and i-1 in seats:\n",
    "        print(\"part 2:\",i)\n",
    "        break"
   ]
  },
  {
   "cell_type": "code",
   "execution_count": 9,
   "metadata": {},
   "outputs": [
    {
     "name": "stdout",
     "output_type": "stream",
     "text": [
      "part 1: 855\n",
      "part 2: 552\n"
     ]
    }
   ],
   "source": [
    "#day 5\n",
    "seats=[]\n",
    "with open (\"input5.txt\") as input:\n",
    "    for line in input:\n",
    "        row=[*range(128)]\n",
    "        col=[*range(8)]\n",
    "        for i in line[:7]:\n",
    "            if i=='F':\n",
    "                row=row[:len(row)//2]\n",
    "            else:\n",
    "                row=row[len(row)//2:]\n",
    "        for i in line.strip()[7:]:\n",
    "            if i=='L':\n",
    "                col=col[:len(col)//2]\n",
    "            else:\n",
    "                col=col[len(col)//2:]\n",
    "        seats.append(row[0]*8+col[0])\n",
    "print(\"part 1:\",max(seats))\n",
    "print(\"part 2:\",[i for i in range(min(seats)+1,max(seats)) if i not in seats and i+1 in seats and i-1 in seats][0])"
   ]
  },
  {
   "cell_type": "code",
   "execution_count": 9,
   "metadata": {},
   "outputs": [
    {
     "name": "stdout",
     "output_type": "stream",
     "text": [
      "6878\n"
     ]
    }
   ],
   "source": [
    "# day 6, part 1\n",
    "with open (\"input6.txt\") as input:\n",
    "    yes=0\n",
    "    group=set()\n",
    "    for line in input:\n",
    "        if line.strip():\n",
    "            for i in line.strip():\n",
    "                group.add(i)\n",
    "        else:\n",
    "            #end of group\n",
    "            yes+=len(group)\n",
    "            group.clear()\n",
    "    yes+=len(group)\n",
    "print(yes)"
   ]
  },
  {
   "cell_type": "code",
   "execution_count": 24,
   "metadata": {},
   "outputs": [
    {
     "name": "stdout",
     "output_type": "stream",
     "text": [
      "3464\n"
     ]
    }
   ],
   "source": [
    "# day 6, part 2\n",
    "with open (\"input6.txt\") as input:\n",
    "    yes=0\n",
    "    size=0\n",
    "    group=[]\n",
    "    for line in input:\n",
    "        if line.strip():\n",
    "            for i in line.strip():\n",
    "                group.append(i)\n",
    "            size+=1\n",
    "        else:\n",
    "            #end of group\n",
    "            for i in set(group):\n",
    "                if group.count(i)==size:\n",
    "                    yes+=1\n",
    "            group=[]\n",
    "            size=0\n",
    "    for i in set(group):\n",
    "        if group.count(i)==size:\n",
    "            yes+=1\n",
    "print(yes)"
   ]
  },
  {
   "cell_type": "code",
   "execution_count": 222,
   "metadata": {},
   "outputs": [
    {
     "name": "stdout",
     "output_type": "stream",
     "text": [
      "part 1: 238\n",
      "part 2: 82930\n"
     ]
    }
   ],
   "source": [
    "#day 7\n",
    "def inspect(bag):\n",
    "    if bag==\"shiny gold bag\":\n",
    "        return 0\n",
    "    elif \"other bag\" in [i[1] for i in data[bag]]:\n",
    "        return 0\n",
    "    elif \"shiny gold bag\" in [i[1] for i in data[bag]]:\n",
    "        return 1\n",
    "    else:\n",
    "        for j in [i[1] for i in data[bag]]:\n",
    "            if inspect(j):\n",
    "                return 1\n",
    "        return 0\n",
    "def contents(bag):\n",
    "    if \"other bag\" in [i[1] for i in data[bag]]:\n",
    "        return 1\n",
    "    else:\n",
    "        c=0\n",
    "        for i in data[bag]:\n",
    "            c+=int(i[0])*contents(i[1])\n",
    "        return c+1\n",
    "with open (\"input7.txt\") as input:\n",
    "    data={}\n",
    "    valid=0\n",
    "    for line in input:\n",
    "        bag,inside=[i[:-1] for i in line.split(\" contain \")]\n",
    "        data[bag]=[i.strip().strip('.').strip('s').split(\" \",1) for i in inside.split(\",\")]\n",
    "colors=0\n",
    "for i in data:\n",
    "    colors+=inspect(i)\n",
    "print(\"part 1:\",colors)\n",
    "total=0\n",
    "for i in data['shiny gold bag']:\n",
    "    total+=int(i[0])*contents(i[1])\n",
    "print(\"part 2:\",total)"
   ]
  },
  {
   "cell_type": "code",
   "execution_count": 108,
   "metadata": {},
   "outputs": [
    {
     "name": "stdout",
     "output_type": "stream",
     "text": [
      "part 1: 1614\n",
      "part 2: 1260\n"
     ]
    }
   ],
   "source": [
    "#day 8\n",
    "with open (\"input8.txt\") as input:\n",
    "    data=[line.strip().split()+[0] for line in input]\n",
    "def loop(in_list):\n",
    "    op=[x[:] for x in in_list]\n",
    "    infinite=False\n",
    "    i=0\n",
    "    acc=0\n",
    "    while i<len(op):\n",
    "        if op[i][2]==1:\n",
    "            infinite=True\n",
    "            break\n",
    "        if op[i][0]=='nop':\n",
    "            op[i][2]=1\n",
    "            i+=1\n",
    "            continue\n",
    "        elif op[i][0]=='acc':\n",
    "            op[i][2]=1\n",
    "            if int(op[i][1])<=0:\n",
    "                acc+=int(op[i][1])\n",
    "            else:\n",
    "                acc+=int(op[i][1][1:])\n",
    "            i+=1\n",
    "            continue\n",
    "        elif op[i][0]=='jmp':\n",
    "            op[i][2]=1\n",
    "            if int(op[i][1])<=0:\n",
    "                i+=int(op[i][1])\n",
    "            else:\n",
    "                i+=int(op[i][1][1:])\n",
    "            continue\n",
    "    return acc,infinite\n",
    "print(\"part 1:\",loop(data)[0])\n",
    "for i,x in  enumerate(data):\n",
    "    edit=[j[:] for j in data]\n",
    "    if x[0]=='nop':\n",
    "        edit[i][0]='jmp'\n",
    "    elif x[0]=='jmp':\n",
    "        edit[i][0]='nop'\n",
    "    else:\n",
    "        continue\n",
    "    acc,infinite=loop(edit)\n",
    "    if not infinite:\n",
    "        print(\"part 2:\",acc)\n",
    "        break"
   ]
  },
  {
   "cell_type": "code",
   "execution_count": 67,
   "metadata": {},
   "outputs": [
    {
     "name": "stdout",
     "output_type": "stream",
     "text": [
      "part 1: 22406676\n",
      "part 2: 2942387\n"
     ]
    }
   ],
   "source": [
    "#day 9\n",
    "with open (\"input9.txt\") as input:\n",
    "    data=[int(line) for line in input]\n",
    "preamble=25\n",
    "for i,x in enumerate(data[preamble:]):\n",
    "    found=False\n",
    "    for j,y in enumerate(data[i:i+preamble],i):\n",
    "        if not found:\n",
    "            for k in data[j+1:i+preamble]:\n",
    "                if y+k==x:\n",
    "                    found=True\n",
    "                    break\n",
    "    if not found:\n",
    "        print(\"part 1:\",x)\n",
    "        break\n",
    "def part2(data):\n",
    "    for i,y in enumerate(data):\n",
    "        contig=[y]\n",
    "        for j in data[i+1:]:\n",
    "            contig.append(j)\n",
    "            if sum(contig)==x:\n",
    "                print(\"part 2:\",min(contig)+max(contig))\n",
    "                return\n",
    "            elif sum(contig)>x:\n",
    "                break\n",
    "part2(data)"
   ]
  },
  {
   "cell_type": "code",
   "execution_count": 95,
   "metadata": {},
   "outputs": [
    {
     "name": "stdout",
     "output_type": "stream",
     "text": [
      "part 1: 2240\n",
      "part 2: 99214346656768\n"
     ]
    }
   ],
   "source": [
    "#day 10\n",
    "with open (\"input10.txt\") as input:\n",
    "    data=[int(line) for line in input]\n",
    "data.append(0)\n",
    "data.sort()\n",
    "deltas=[]\n",
    "for i,j in enumerate(data[1:],1):\n",
    "    deltas.append(j-data[i-1])\n",
    "deltas.append(3)\n",
    "print(\"part 1:\",deltas.count(1)*deltas.count(3))\n",
    "multiplier={1:1,2:2,3:4,4:7,5:12}#see permutation note below\n",
    "ones=0\n",
    "total=1\n",
    "for i in deltas:\n",
    "    if i==3:\n",
    "        if ones:\n",
    "            total*=multiplier[ones]\n",
    "            ones=0\n",
    "    else:\n",
    "        ones+=1\n",
    "print(\"part 2:\", total)"
   ]
  },
  {
   "cell_type": "markdown",
   "metadata": {},
   "source": [
    "Permutation notes for day 10, part 2:  \n",
    "Search for substrings of 1's in deltas to get number of permutations for that substring\n",
    "\n",
    "[1]=1\n",
    "\n",
    "[1,1]=2\n",
    "\n",
    "[1,1,1]=4\n",
    "\n",
    "[1,1,1,1]=7\n",
    "\n",
    "[1,1,1,1,1]=13"
   ]
  },
  {
   "cell_type": "code",
   "execution_count": 7,
   "metadata": {
    "scrolled": true
   },
   "outputs": [
    {
     "name": "stdout",
     "output_type": "stream",
     "text": [
      "part 1: 2468\n",
      "part 2: 2214\n"
     ]
    }
   ],
   "source": [
    "#day 11\n",
    "with open (\"input11.txt\") as input:\n",
    "    seats=[line.strip() for line in input]\n",
    "xlen=len(seats[0])\n",
    "ylen=len(seats)\n",
    "def up(old,x,y):\n",
    "    for j in range(y-1,-1,-1):\n",
    "        if 0<=j<ylen:\n",
    "            if old[j][x]=='#':\n",
    "                return 1\n",
    "            elif old[j][x]=='L':\n",
    "                return 0\n",
    "    return 0\n",
    "def down(old,x,y):\n",
    "    for j in range(y+1,ylen):\n",
    "        if 0<=j<ylen:\n",
    "            if old[j][x]=='#':\n",
    "                return 1\n",
    "            elif old[j][x]=='L':\n",
    "                return 0\n",
    "    return 0\n",
    "def right(old,x,y):\n",
    "    for i in range(x+1,xlen):\n",
    "        if 0<=i<xlen:\n",
    "            if old[y][i]=='#':\n",
    "                return 1\n",
    "            elif old[y][i]=='L':\n",
    "                return 0\n",
    "    return 0\n",
    "def left(old,x,y):\n",
    "    for i in range(x-1,-1,-1):\n",
    "        if 0<=i<xlen:\n",
    "            if old[y][i]=='#':\n",
    "                return 1\n",
    "            elif old[y][i]=='L':\n",
    "                return 0\n",
    "    return 0\n",
    "def NW(old,x,y):\n",
    "    j=y\n",
    "    for i in range(x-1,-1,-1):\n",
    "        j-=1\n",
    "        if 0<=i<xlen and 0<=j<ylen:\n",
    "            if old[j][i]=='#':\n",
    "                return 1\n",
    "            elif old[j][i]=='L':\n",
    "                return 0\n",
    "    return 0\n",
    "def SW(old,x,y):\n",
    "    j=y\n",
    "    for i in range(x-1,-1,-1):\n",
    "        j+=1\n",
    "        if 0<=i<xlen and 0<=j<ylen:\n",
    "            if old[j][i]=='#':\n",
    "                return 1\n",
    "            elif old[j][i]=='L':\n",
    "                return 0\n",
    "    return 0\n",
    "def NE(old,x,y):\n",
    "    j=y\n",
    "    for i in range(x+1,xlen):\n",
    "        j-=1\n",
    "        if 0<=i<xlen and 0<=j<ylen:\n",
    "            if old[j][i]=='#':\n",
    "                return 1\n",
    "            elif old[j][i]=='L':\n",
    "                return 0\n",
    "    return 0\n",
    "def SE(old,x,y):\n",
    "    j=y\n",
    "    for i in range(x+1,xlen):\n",
    "        j+=1\n",
    "        if 0<=i<xlen and 0<=j<ylen:\n",
    "            if old[j][i]=='#':\n",
    "                return 1\n",
    "            elif old[j][i]=='L':\n",
    "                return 0\n",
    "    return 0\n",
    "def adjacent1(old,x,y):\n",
    "    occupied=0\n",
    "    for i in range(x-1,x+2):\n",
    "        for j in range(y-1,y+2):\n",
    "            if 0<=i<xlen and 0<=j<ylen and not (i==x and j==y):\n",
    "                if old[j][i]=='#':\n",
    "                    occupied+=1\n",
    "    return occupied        \n",
    "def adjacent2(old,x,y):\n",
    "    return up(old,x,y)+down(old,x,y)+left(old,x,y)+right(old,x,y)+NE(old,x,y)+NW(old,x,y)+SE(old,x,y)+SW(old,x,y)  \n",
    "def sit(old,limit):\n",
    "    count=0\n",
    "    new=[]\n",
    "    for y in range(ylen):\n",
    "        new.append([])\n",
    "        for x in range(xlen):\n",
    "            if old[y][x]!='.':\n",
    "                if limit==4:\n",
    "                    adj=adjacent1(old,x,y)\n",
    "                else:\n",
    "                    adj=adjacent2(old,x,y)\n",
    "                if adj==0 and old[y][x]=='L':\n",
    "                    new[y].append('#')\n",
    "                    count+=1\n",
    "                elif adj>=limit and old[y][x]=='#':\n",
    "                    new[y].append('L')\n",
    "                    count+=1\n",
    "                else:\n",
    "                    new[y].append(old[y][x])\n",
    "            else:\n",
    "                new[y].append(old[y][x])\n",
    "    return count,new\n",
    "def loop(seats,limit):\n",
    "    moved=1\n",
    "    while moved:\n",
    "        moved,seats=sit(seats,limit)\n",
    "    return sum(row.count('#') for row in seats)\n",
    "print(\"part 1:\",loop(seats,4))\n",
    "print(\"part 2:\",loop(seats,5))"
   ]
  },
  {
   "cell_type": "code",
   "execution_count": 62,
   "metadata": {},
   "outputs": [
    {
     "name": "stdout",
     "output_type": "stream",
     "text": [
      "part 1: 1010\n",
      "part 2: 52742\n"
     ]
    }
   ],
   "source": [
    "#day 12\n",
    "import numpy as np #no need to reinvent vector math\n",
    "\n",
    "with open (\"input12.txt\") as input:\n",
    "    data=[line.strip() for line in input]\n",
    "r=np.array([0,0])\n",
    "theta=0\n",
    "for line in data:\n",
    "    a=line[0]\n",
    "    b=int(line[1:])\n",
    "    if a=='L':\n",
    "        theta+=b*np.pi/180\n",
    "    elif a=='R':\n",
    "        theta-=b*np.pi/180\n",
    "    else:\n",
    "        if a=='N':\n",
    "            heading=np.pi/2\n",
    "        elif a=='S':\n",
    "            heading=3*np.pi/2\n",
    "        elif a=='E':\n",
    "            heading=0\n",
    "        elif a=='W':\n",
    "            heading=np.pi\n",
    "        else:\n",
    "            heading=theta\n",
    "        r+=[b*int(np.cos(heading)),b*int(np.sin(heading))]\n",
    "print(\"part 1:\",abs(r[0])+abs(r[1]))\n",
    "r=np.array([0,0])\n",
    "wp=np.array([10,1])\n",
    "for line in data:\n",
    "    a=line[0]\n",
    "    b=int(line[1:])\n",
    "    if a=='L':\n",
    "        c=int(np.cos(b*np.pi/180))\n",
    "        s=int(np.sin(b*np.pi/180))\n",
    "        wp=np.array(((c,-s),(s,c)))@wp\n",
    "    elif a=='R':\n",
    "        c=int(np.cos(-b*np.pi/180))\n",
    "        s=int(np.sin(-b*np.pi/180))\n",
    "        wp=np.array(((c,-s),(s,c)))@wp\n",
    "    elif a=='F':\n",
    "        r=r+b*wp\n",
    "    else:\n",
    "        if a=='N':\n",
    "            heading=np.pi/2\n",
    "        elif a=='S':\n",
    "            heading=3*np.pi/2\n",
    "        elif a=='E':\n",
    "            heading=0\n",
    "        elif a=='W':\n",
    "            heading=np.pi\n",
    "        wp+=[b*int(np.cos(heading)),b*int(np.sin(heading))]\n",
    "print(\"part 2:\",abs(r[0])+abs(r[1]))"
   ]
  },
  {
   "cell_type": "code",
   "execution_count": 3,
   "metadata": {},
   "outputs": [
    {
     "name": "stdout",
     "output_type": "stream",
     "text": [
      "203\n"
     ]
    }
   ],
   "source": [
    "#day 13, part 1\n",
    "with open (\"input13.txt\") as input:\n",
    "    req=int(input.readline().strip())\n",
    "    ids=input.readline().strip().split(',')\n",
    "min=[req,0]\n",
    "for x in ids:\n",
    "    if x!='x':\n",
    "        i=int(x)\n",
    "        m=i-req%i\n",
    "        if m<min[0]:\n",
    "            min=[m,i]\n",
    "print(min[0]*min[1])"
   ]
  },
  {
   "cell_type": "code",
   "execution_count": 173,
   "metadata": {},
   "outputs": [
    {
     "name": "stdout",
     "output_type": "stream",
     "text": [
      "905694340256752\n"
     ]
    }
   ],
   "source": [
    "#day 13, part 2\n",
    "# This is asking for a solution of a system of congruences\n",
    "# Note that all bus ids are prime numbers\n",
    "# x=a_1 (mod id_1)\n",
    "# x=a_i (mod id_i)\n",
    "# where x=earliest timestamp solution\n",
    "# a_i=bus id-minute offset from x\n",
    "# id_i=bus ids\n",
    "# Ex:\n",
    "#     1068781=0 (mod7)\n",
    "#     1068781=12 (mod 13)\n",
    "#     1068781=55 (mod 59)\n",
    "#     ...\n",
    "# The Chinese Remainder Theorem solves for x\n",
    "# The Extended Euclidean Algorithm is used to get Bezout coefficients:\n",
    "# r_i*id_i+s_i*N/id_i=1\n",
    "# x=sum(a_i*s_i*N/id_i) where N=product(id_i)\n",
    "from functools import reduce\n",
    "\n",
    "def extended(a,b):\n",
    "    r0,r1=a,b\n",
    "    s0,s1=1,0\n",
    "    while r1!=0:\n",
    "        q=r0//r1\n",
    "        r0,r1=r1,r0-q*r1\n",
    "        s0,s1=s1,s0-q*s1\n",
    "    if s0<0:\n",
    "        s0+=b\n",
    "    return s0\n",
    "with open (\"input13.txt\") as input:\n",
    "    req=int(input.readline().strip())\n",
    "    ids=input.readline().strip().split(',')\n",
    "id_i=[[int(id),int(id)-i] for i,id in enumerate(ids) if id!='x']\n",
    "total=0\n",
    "N=reduce(lambda x,y:x*y,[i[0] for i in id_i])\n",
    "for i in id_i:\n",
    "    total+=i[1]*N//i[0]*extended(N//i[0],i[0])\n",
    "print(total%N)    "
   ]
  },
  {
   "cell_type": "code",
   "execution_count": 9,
   "metadata": {},
   "outputs": [
    {
     "name": "stdout",
     "output_type": "stream",
     "text": [
      "4886706177792\n"
     ]
    }
   ],
   "source": [
    "#day 14, part 1\n",
    "memory={}\n",
    "mask=0\n",
    "with open (\"input14.txt\") as input:\n",
    "    for line in input:\n",
    "        if '[' in line:\n",
    "            address=line.split('[')[1].split(']')[0]\n",
    "            value=format(int(line.split('=')[1].strip()),'036b')\n",
    "            for i,x in enumerate(mask):\n",
    "                if x!='X':\n",
    "                    value=value[:i]+x+value[i+1:]\n",
    "            memory[address]=value\n",
    "        else:\n",
    "            mask=line.split('=')[1].strip()\n",
    "print(sum([int(i,2) for i in memory.values()]))"
   ]
  },
  {
   "cell_type": "code",
   "execution_count": 34,
   "metadata": {},
   "outputs": [
    {
     "name": "stdout",
     "output_type": "stream",
     "text": [
      "3348493585827\n"
     ]
    }
   ],
   "source": [
    "#day 14, part 2\n",
    "memory={}\n",
    "mask=0\n",
    "with open (\"input14.txt\") as input:\n",
    "    for line in input:\n",
    "        if '[' in line:\n",
    "            address=format(int(line.split('[')[1].split(']')[0]),'036b')\n",
    "            value=int(line.split('=')[1].strip())\n",
    "            for i,x in enumerate(mask):\n",
    "                if x=='1':\n",
    "                    address=address[:i]+x+address[i+1:]\n",
    "            locations=set([address])\n",
    "            for i,x in enumerate(mask):\n",
    "                if x=='X':\n",
    "                    new=set()\n",
    "                    for loc in locations:\n",
    "                        new.add(loc[:i]+'1'+loc[i+1:])\n",
    "                        new.add(loc[:i]+'0'+loc[i+1:])\n",
    "                    locations=locations.union(new)\n",
    "            for loc in locations:\n",
    "                memory[loc]=value\n",
    "        else:\n",
    "            mask=line.split('=')[1].strip()\n",
    "print(sum(memory.values()))"
   ]
  },
  {
   "cell_type": "code",
   "execution_count": 4,
   "metadata": {},
   "outputs": [
    {
     "name": "stdout",
     "output_type": "stream",
     "text": [
      "part 1: 410\n",
      "part 1: 238\n"
     ]
    }
   ],
   "source": [
    "#day 15\n",
    "def game(starting,goal):\n",
    "    numbers=[0]*goal\n",
    "    for i,x in enumerate(starting):\n",
    "        numbers[x]=i+1\n",
    "    n=starting[-1]\n",
    "    for i in range(len(starting)+1,goal+1):\n",
    "        if numbers[n]:\n",
    "            old=n\n",
    "            n=i-1-numbers[n]\n",
    "            numbers[old]=i-1\n",
    "        else:\n",
    "            numbers[n]=i-1\n",
    "            n=0\n",
    "    return n\n",
    "print(\"part 1:\",game([7,12,1,0,16,2],2020))\n",
    "print(\"part 1:\",game([7,12,1,0,16,2],30000000))"
   ]
  },
  {
   "cell_type": "code",
   "execution_count": 75,
   "metadata": {},
   "outputs": [
    {
     "name": "stdout",
     "output_type": "stream",
     "text": [
      "part 1: 32835\n",
      "part 2: 514662805187\n"
     ]
    }
   ],
   "source": [
    "#day 16\n",
    "with open (\"input16.txt\") as input:\n",
    "    ticketline=False\n",
    "    nearbyline=False\n",
    "    nearby=[]\n",
    "    valid=set()\n",
    "    fields={}\n",
    "    for line in input:\n",
    "        if nearbyline:\n",
    "            nearby.append([int(i) for i in line.strip().split(',')])\n",
    "        elif 'nearby tickets' in line:\n",
    "            nearbyline=True\n",
    "        elif 'your ticket' in line:\n",
    "            ticketline=True\n",
    "        elif ticketline:\n",
    "            yourticket=[int(i) for i in line.strip().split(',')]\n",
    "            ticketline=False\n",
    "        elif ':' in line:\n",
    "            field,nums=line.split(':')\n",
    "            fields[field]=set()\n",
    "            for i in nums.split('or'):\n",
    "                low,high=[int(n) for n in i.strip().split('-')]\n",
    "                for j in range(low,high+1):\n",
    "                    valid.add(j)\n",
    "                    fields[field].add(j)\n",
    "error=0\n",
    "validtickets=[]\n",
    "for ticket in nearby:\n",
    "    err=False\n",
    "    for val in ticket:\n",
    "        if val not in valid:\n",
    "            error+=int(val)\n",
    "            err=True\n",
    "    if not err:\n",
    "        validtickets.append(ticket)  \n",
    "print(\"part 1:\",error)\n",
    "index={}\n",
    "possible={}\n",
    "for i in range(len(validtickets[0])):\n",
    "    possible[i]=[]\n",
    "    for field in fields:\n",
    "        allvalid=True\n",
    "        for ticket in validtickets:\n",
    "            if ticket[i] not in fields[field]:\n",
    "                allvalid=False\n",
    "                break\n",
    "        if allvalid:\n",
    "            possible[i].append(field)\n",
    "for i in range(len(possible)):\n",
    "    for j in possible:\n",
    "        if len(possible[j])==1:\n",
    "            found=possible[j][0]\n",
    "            index[found]=j\n",
    "            break\n",
    "    for j in possible:\n",
    "        if found in possible[j]:\n",
    "            possible[j].remove(found)\n",
    "product=1\n",
    "for field in index:\n",
    "    if 'departure' in field:\n",
    "        product*=yourticket[index[field]]\n",
    "print(\"part 2:\",product)"
   ]
  },
  {
   "cell_type": "code",
   "execution_count": 42,
   "metadata": {},
   "outputs": [
    {
     "name": "stdout",
     "output_type": "stream",
     "text": [
      "382\n"
     ]
    }
   ],
   "source": [
    "#day 17, part 1\n",
    "from pprint import pprint\n",
    "from copy import deepcopy\n",
    "with open (\"input17.txt\") as input:\n",
    "    initial=[line.strip() for line in input]\n",
    "cycles=6\n",
    "xlen=len(initial[0])+cycles*2\n",
    "ylen=len(initial)+cycles*2\n",
    "zlen=1+cycles*2\n",
    "cubes=[]\n",
    "for i in range(xlen):\n",
    "    cubes.append([])\n",
    "    for j in range(ylen):\n",
    "        cubes[i].append([])\n",
    "        for k in range(zlen):\n",
    "            cubes[i][j].append(0)\n",
    "for i,row in enumerate(initial):\n",
    "    for j,y in enumerate(row):\n",
    "        if y=='#':\n",
    "            cubes[i+cycles][j+cycles][cycles]=1\n",
    "        else:\n",
    "            cubes[i+cycles][j+cycles][cycles]=0\n",
    "def adjacent(old,x,y,z):\n",
    "    active=0\n",
    "    for i in range(x-1,x+2):\n",
    "        for j in range(y-1,y+2):\n",
    "            for k in range(z-1,z+2):\n",
    "                if 0<=i<xlen and 0<=j<ylen and 0<=k<zlen and not (i==x and j==y and k==z):\n",
    "                    active+=old[i][j][k]\n",
    "    return active\n",
    "for c in range(cycles):\n",
    "    new=[]\n",
    "    for x in range(xlen):\n",
    "        new.append([])\n",
    "        for y in range(ylen):\n",
    "            new[x].append([])\n",
    "            for z in range(zlen):\n",
    "                count=adjacent(cubes,x,y,z)\n",
    "                if cubes[x][y][z]:\n",
    "                    if count in [2,3]:\n",
    "                        new[x][y].append(1)\n",
    "                    else:\n",
    "                        new[x][y].append(0)\n",
    "                else:\n",
    "                    if count==3:\n",
    "                        new[x][y].append(1)\n",
    "                    else:\n",
    "                        new[x][y].append(0)\n",
    "    cubes=deepcopy(new)\n",
    "total=0\n",
    "for i in range(xlen):\n",
    "    for j in range(ylen):\n",
    "        for k in range(zlen):\n",
    "            total+=cubes[i][j][k]\n",
    "print(total)"
   ]
  },
  {
   "cell_type": "code",
   "execution_count": 45,
   "metadata": {},
   "outputs": [
    {
     "name": "stdout",
     "output_type": "stream",
     "text": [
      "2552\n"
     ]
    }
   ],
   "source": [
    "#day 17, part 2\n",
    "from pprint import pprint\n",
    "from copy import deepcopy\n",
    "with open (\"input17.txt\") as input:\n",
    "    initial=[line.strip() for line in input]\n",
    "cycles=6\n",
    "xlen=len(initial[0])+cycles*2\n",
    "ylen=len(initial)+cycles*2\n",
    "zlen=1+cycles*2\n",
    "wlen=1+cycles*2\n",
    "cubes=[]\n",
    "for i in range(xlen):\n",
    "    cubes.append([])\n",
    "    for j in range(ylen):\n",
    "        cubes[i].append([])\n",
    "        for k in range(zlen):\n",
    "            cubes[i][j].append([])\n",
    "            for w in range(wlen):\n",
    "                cubes[i][j][k].append(0)\n",
    "for i,row in enumerate(initial):\n",
    "    for j,y in enumerate(row):\n",
    "        if y=='#':\n",
    "            cubes[i+cycles][j+cycles][cycles][cycles]=1\n",
    "        else:\n",
    "            cubes[i+cycles][j+cycles][cycles][cycles]=0\n",
    "def adjacent(old,x,y,z,w):\n",
    "    active=0\n",
    "    for i in range(x-1,x+2):\n",
    "        for j in range(y-1,y+2):\n",
    "            for k in range(z-1,z+2):\n",
    "                for m in range(w-1,w+2):\n",
    "                    if 0<=i<xlen and 0<=j<ylen and 0<=k<zlen and 0<=m<wlen and not (i==x and j==y and k==z and m==w):\n",
    "                        active+=old[i][j][k][m]\n",
    "    return active\n",
    "for c in range(cycles):\n",
    "    new=[]\n",
    "    for x in range(xlen):\n",
    "        new.append([])\n",
    "        for y in range(ylen):\n",
    "            new[x].append([])\n",
    "            for z in range(zlen):\n",
    "                new[x][y].append([])\n",
    "                for w in range(wlen):\n",
    "                    count=adjacent(cubes,x,y,z,w)\n",
    "                    if cubes[x][y][z][w]:\n",
    "                        if count in [2,3]:\n",
    "                            new[x][y][z].append(1)\n",
    "                        else:\n",
    "                            new[x][y][z].append(0)\n",
    "                    else:\n",
    "                        if count==3:\n",
    "                            new[x][y][z].append(1)\n",
    "                        else:\n",
    "                            new[x][y][z].append(0)\n",
    "    cubes=deepcopy(new)\n",
    "total=0\n",
    "for i in range(xlen):\n",
    "    for j in range(ylen):\n",
    "        for k in range(zlen):\n",
    "            for m in range(wlen):\n",
    "                total+=cubes[i][j][k][m]\n",
    "print(total)"
   ]
  },
  {
   "cell_type": "code",
   "execution_count": null,
   "metadata": {},
   "outputs": [],
   "source": []
  }
 ],
 "metadata": {
  "kernelspec": {
   "display_name": "Python 3",
   "language": "python",
   "name": "python3"
  },
  "language_info": {
   "codemirror_mode": {
    "name": "ipython",
    "version": 3
   },
   "file_extension": ".py",
   "mimetype": "text/x-python",
   "name": "python",
   "nbconvert_exporter": "python",
   "pygments_lexer": "ipython3",
   "version": "3.9.0"
  }
 },
 "nbformat": 4,
 "nbformat_minor": 4
}
