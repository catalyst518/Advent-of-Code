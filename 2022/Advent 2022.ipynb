{
 "cells": [
  {
   "cell_type": "markdown",
   "metadata": {},
   "source": [
    "# 2022 <a id='top'></a>\n",
    "\n",
    "* [Day 1](#1) \n",
    "* [Day 2](#2) \n",
    "* [Day 3](#3) "
   ]
  },
  {
   "cell_type": "markdown",
   "metadata": {},
   "source": [
    "## Day 1 <a id='1'></a> [^](#top)"
   ]
  },
  {
   "cell_type": "code",
   "execution_count": 30,
   "metadata": {},
   "outputs": [
    {
     "name": "stdout",
     "output_type": "stream",
     "text": [
      "69795\n",
      "208437\n"
     ]
    }
   ],
   "source": [
    "def part1():\n",
    "    elves=[]\n",
    "    current=0\n",
    "    for i in data:\n",
    "        if i=='':\n",
    "            elves.append(current)\n",
    "            current=0\n",
    "        else:\n",
    "            current+=int(i)\n",
    "    elves.append(current)\n",
    "    print(max(elves))\n",
    "def part2():\n",
    "    elves=[]\n",
    "    current=0\n",
    "    for i in data:\n",
    "        if i=='':\n",
    "            elves.append(current)\n",
    "            current=0\n",
    "        else:\n",
    "            current+=int(i)\n",
    "    elves.append(current)\n",
    "    print(sum(sorted(elves,reverse=True)[:3]))\n",
    "with open(\"./input/input1.txt\") as input:\n",
    "    data=[i.strip() for i in input]\n",
    "part1()\n",
    "part2()"
   ]
  },
  {
   "cell_type": "markdown",
   "metadata": {},
   "source": [
    "## Day 2 <a id='2'></a> [^](#top)"
   ]
  },
  {
   "cell_type": "code",
   "execution_count": 1,
   "metadata": {},
   "outputs": [
    {
     "name": "stdout",
     "output_type": "stream",
     "text": [
      "15632\n",
      "14416\n"
     ]
    }
   ],
   "source": [
    "outcomes={\n",
    "    \"A X\":3,\n",
    "    \"A Y\":6,\n",
    "    \"A Z\":0,\n",
    "    \"B X\":0,\n",
    "    \"B Y\":3,\n",
    "    \"B Z\":6,\n",
    "    \"C X\":6,\n",
    "    \"C Y\":0,\n",
    "    \"C Z\":3,\n",
    "    \"X\":0,\n",
    "    \"Y\":3,\n",
    "    \"Z\":6\n",
    "}\n",
    "points={\n",
    "    \"X\":1,\n",
    "    \"Y\":2,\n",
    "    \"Z\":3\n",
    "}\n",
    "choices={\n",
    "    \"A X\":\"Z\",\n",
    "    \"A Y\":\"X\",\n",
    "    \"A Z\":\"Y\",\n",
    "    \"B X\":\"X\",\n",
    "    \"B Y\":\"Y\",\n",
    "    \"B Z\":\"Z\",\n",
    "    \"C X\":\"Y\",\n",
    "    \"C Y\":\"Z\",\n",
    "    \"C Z\":\"X\"\n",
    "}\n",
    "def part1():\n",
    "    score=0\n",
    "    for match in data:\n",
    "        score+=outcomes[match]+points[match.split()[1]]\n",
    "    print(score)\n",
    "def part2():\n",
    "    score=0\n",
    "    for match in data:\n",
    "        score+=outcomes[match.split()[1]]+points[choices[match]]\n",
    "    print(score)\n",
    "with open(\"./input/input2.txt\") as input:\n",
    "    data=[i.strip() for i in input]\n",
    "part1()\n",
    "part2()"
   ]
  },
  {
   "cell_type": "markdown",
   "metadata": {},
   "source": [
    "## Day 3 <a id='3'></a> [^](#top)"
   ]
  },
  {
   "cell_type": "code",
   "execution_count": 49,
   "metadata": {},
   "outputs": [
    {
     "name": "stdout",
     "output_type": "stream",
     "text": [
      "8401\n",
      "2641\n"
     ]
    }
   ],
   "source": [
    "def halfruck(ruck):\n",
    "    return ruck[:len(ruck)//2],ruck[len(ruck)//2:]\n",
    "def part1():\n",
    "    extras=[]\n",
    "    for ruck in data:\n",
    "        a,b=halfruck(ruck)\n",
    "        for item in a:\n",
    "            if item in b:\n",
    "                extras.append(item)\n",
    "                break\n",
    "    priorities=[ord(i)-ord('a')+1 if i.islower() else ord(i)-ord('A')+27 for i in extras]\n",
    "    print(sum(priorities))\n",
    "def part2():\n",
    "    extras=[]\n",
    "    for i in range(0,len(data),3):\n",
    "        for item in data[i]:\n",
    "            if item in data[i+1] and item in data[i+2]:\n",
    "                extras.append(item)\n",
    "                break\n",
    "    priorities=[ord(i)-ord('a')+1 if i.islower() else ord(i)-ord('A')+27 for i in extras]\n",
    "    print(sum(priorities))\n",
    "with open(\"./input/input3.txt\") as input:\n",
    "    data=[i.strip() for i in input]\n",
    "part1()\n",
    "part2()"
   ]
  }
 ],
 "metadata": {
  "kernelspec": {
   "display_name": "Python 3",
   "language": "python",
   "name": "python3"
  },
  "language_info": {
   "codemirror_mode": {
    "name": "ipython",
    "version": 3
   },
   "file_extension": ".py",
   "mimetype": "text/x-python",
   "name": "python",
   "nbconvert_exporter": "python",
   "pygments_lexer": "ipython3",
   "version": "3.7.1"
  },
  "vscode": {
   "interpreter": {
    "hash": "cc799a87d16c0b729a245162fc7a5a54528a7f7a07e0c98c074b6856cea2529c"
   }
  }
 },
 "nbformat": 4,
 "nbformat_minor": 4
}
